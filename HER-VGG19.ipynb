{
 "cells": [
  {
   "cell_type": "code",
   "execution_count": 1,
   "metadata": {
    "_cell_guid": "75f324e9-9938-4fcb-9794-42eef330f826",
    "_uuid": "c1a199a8-ebb9-43b6-be6a-40829e217489",
    "colab": {
     "base_uri": "https://localhost:8080/",
     "height": 94
    },
    "colab_type": "code",
    "id": "ODyVs_urTCSH",
    "outputId": "3954b8fb-c4b7-4f38-a59f-8c3be26b6217"
   },
   "outputs": [
    {
     "name": "stderr",
     "output_type": "stream",
     "text": [
      "/opt/conda/lib/python3.6/site-packages/sklearn/cross_validation.py:41: DeprecationWarning: This module was deprecated in version 0.18 in favor of the model_selection module into which all the refactored classes and functions are moved. Also note that the interface of the new CV iterators are different from that of this module. This module will be removed in 0.20.\n",
      "  \"This module will be removed in 0.20.\", DeprecationWarning)\n",
      "Using TensorFlow backend.\n"
     ]
    }
   ],
   "source": [
    "import os,cv2\n",
    "import numpy as np\n",
    "import pandas as pd\n",
    "import matplotlib.pyplot as plt\n",
    "import matplotlib.image as mpimg\n",
    "from pylab import rcParams\n",
    "rcParams['figure.figsize'] = 20, 10\n",
    "\n",
    "from sklearn.utils import shuffle\n",
    "from sklearn.cross_validation import train_test_split\n",
    "\n",
    "import keras\n",
    "from keras.utils import np_utils\n",
    "from keras import backend as K\n",
    "from keras.models import Sequential\n",
    "from keras.layers.core import Dense, Dropout, Activation, Flatten\n",
    "from keras.layers.convolutional import Convolution2D, MaxPooling2D\n",
    "from keras.optimizers import SGD,RMSprop,adam, Adadelta\n",
    "from keras.preprocessing.image import ImageDataGenerator\n",
    "from keras.layers.convolutional import Conv2D\n",
    "from keras.metrics import categorical_accuracy\n",
    "from keras.models import model_from_json\n",
    "from keras.callbacks import ModelCheckpoint\n",
    "from keras.optimizers import *\n",
    "from keras.layers.normalization import BatchNormalization\n"
   ]
  },
  {
   "cell_type": "code",
   "execution_count": 3,
   "metadata": {
    "_cell_guid": "37743d2f-872f-4cc0-9f34-2a6481b65a58",
    "_uuid": "951d2a8f-a77b-40c7-9a7e-6fd970da52f6"
   },
   "outputs": [
    {
     "data": {
      "text/html": [
       "<div>\n",
       "<style scoped>\n",
       "    .dataframe tbody tr th:only-of-type {\n",
       "        vertical-align: middle;\n",
       "    }\n",
       "\n",
       "    .dataframe tbody tr th {\n",
       "        vertical-align: top;\n",
       "    }\n",
       "\n",
       "    .dataframe thead th {\n",
       "        text-align: right;\n",
       "    }\n",
       "</style>\n",
       "<table border=\"1\" class=\"dataframe\">\n",
       "  <thead>\n",
       "    <tr style=\"text-align: right;\">\n",
       "      <th></th>\n",
       "      <th>emotion</th>\n",
       "      <th>pixels</th>\n",
       "      <th>usage</th>\n",
       "    </tr>\n",
       "  </thead>\n",
       "  <tbody>\n",
       "    <tr>\n",
       "      <th>0</th>\n",
       "      <td>emotion</td>\n",
       "      <td>pixels</td>\n",
       "      <td>Usage</td>\n",
       "    </tr>\n",
       "    <tr>\n",
       "      <th>1</th>\n",
       "      <td>0</td>\n",
       "      <td>70 80 82 72 58 58 60 63 54 58 60 48 89 115 121...</td>\n",
       "      <td>Training</td>\n",
       "    </tr>\n",
       "    <tr>\n",
       "      <th>2</th>\n",
       "      <td>0</td>\n",
       "      <td>151 150 147 155 148 133 111 140 170 174 182 15...</td>\n",
       "      <td>Training</td>\n",
       "    </tr>\n",
       "    <tr>\n",
       "      <th>3</th>\n",
       "      <td>2</td>\n",
       "      <td>231 212 156 164 174 138 161 173 182 200 106 38...</td>\n",
       "      <td>Training</td>\n",
       "    </tr>\n",
       "    <tr>\n",
       "      <th>4</th>\n",
       "      <td>4</td>\n",
       "      <td>24 32 36 30 32 23 19 20 30 41 21 22 32 34 21 1...</td>\n",
       "      <td>Training</td>\n",
       "    </tr>\n",
       "    <tr>\n",
       "      <th>5</th>\n",
       "      <td>6</td>\n",
       "      <td>4 0 0 0 0 0 0 0 0 0 0 0 3 15 23 28 48 50 58 84...</td>\n",
       "      <td>Training</td>\n",
       "    </tr>\n",
       "    <tr>\n",
       "      <th>6</th>\n",
       "      <td>2</td>\n",
       "      <td>55 55 55 55 55 54 60 68 54 85 151 163 170 179 ...</td>\n",
       "      <td>Training</td>\n",
       "    </tr>\n",
       "    <tr>\n",
       "      <th>7</th>\n",
       "      <td>4</td>\n",
       "      <td>20 17 19 21 25 38 42 42 46 54 56 62 63 66 82 1...</td>\n",
       "      <td>Training</td>\n",
       "    </tr>\n",
       "    <tr>\n",
       "      <th>8</th>\n",
       "      <td>3</td>\n",
       "      <td>77 78 79 79 78 75 60 55 47 48 58 73 77 79 57 5...</td>\n",
       "      <td>Training</td>\n",
       "    </tr>\n",
       "    <tr>\n",
       "      <th>9</th>\n",
       "      <td>3</td>\n",
       "      <td>85 84 90 121 101 102 133 153 153 169 177 189 1...</td>\n",
       "      <td>Training</td>\n",
       "    </tr>\n",
       "  </tbody>\n",
       "</table>\n",
       "</div>"
      ],
      "text/plain": [
       "   emotion    ...        usage\n",
       "0  emotion    ...        Usage\n",
       "1        0    ...     Training\n",
       "2        0    ...     Training\n",
       "3        2    ...     Training\n",
       "4        4    ...     Training\n",
       "5        6    ...     Training\n",
       "6        2    ...     Training\n",
       "7        4    ...     Training\n",
       "8        3    ...     Training\n",
       "9        3    ...     Training\n",
       "\n",
       "[10 rows x 3 columns]"
      ]
     },
     "execution_count": 3,
     "metadata": {},
     "output_type": "execute_result"
    }
   ],
   "source": [
    "# get the data\n",
    "filname = 'fer2013/fer2013.csv'\n",
    "label_map = ['Anger', 'Disgust', 'Fear', 'Happy', 'Sad', 'Surprise', 'Neutral']\n",
    "names=['emotion','pixels','usage']\n",
    "df=pd.read_csv('fer2013/fer2013.csv',names=names, na_filter=False)\n",
    "im=df['pixels']\n",
    "df.head(10)"
   ]
  },
  {
   "cell_type": "code",
   "execution_count": 4,
   "metadata": {
    "_cell_guid": "9c1e70fd-d65d-49ab-b252-2e20f1eeae15",
    "_uuid": "a169784f-a780-4e7f-9073-1eab5e08fe84"
   },
   "outputs": [
    {
     "name": "stdout",
     "output_type": "stream",
     "text": [
      "3          8989\n",
      "6          6198\n",
      "4          6077\n",
      "2          5121\n",
      "0          4953\n",
      "5          4002\n",
      "1           547\n",
      "emotion       1\n",
      "Name: emotion, dtype: int64\n"
     ]
    }
   ],
   "source": [
    "a = df['emotion']\n",
    "idx = pd.Index(a)\n",
    "count = idx.value_counts()\n",
    "print(count)"
   ]
  },
  {
   "cell_type": "code",
   "execution_count": 6,
   "metadata": {
    "_cell_guid": "c2b45c46-2e06-4a14-943e-8cdd77bf91c3",
    "_uuid": "0e485605-dca9-412c-b253-92fd4355bebe"
   },
   "outputs": [],
   "source": [
    "def getData(filname):\n",
    "    # images are 48x48\n",
    "    # N = 35887\n",
    "    Y = []\n",
    "    X = []\n",
    "    first = True\n",
    "    for line in open(filname):\n",
    "        #This condition skips the first condition\n",
    "        if first:\n",
    "            first = False\n",
    "        else:\n",
    "            row = line.split(',')\n",
    "            Y.append(int(row[0]))\n",
    "            X.append([int(p) for p in row[1].split()])\n",
    "\n",
    "    #X, Y = np.array(X) / 255.0, np.array(Y)\n",
    "    X, Y = np.array(X)/255.0 , np.array(Y)\n",
    "    return X, Y"
   ]
  },
  {
   "cell_type": "code",
   "execution_count": 7,
   "metadata": {
    "_cell_guid": "c78fdee2-0c0c-49c9-8ad6-876e477c8954",
    "_uuid": "45880647-de8a-424c-a6f9-6c7b9d97bf6b"
   },
   "outputs": [
    {
     "name": "stdout",
     "output_type": "stream",
     "text": [
      "7\n"
     ]
    }
   ],
   "source": [
    "X, Y = getData(filname)\n",
    "num_class = len(set(Y))\n",
    "print(num_class)"
   ]
  },
  {
   "cell_type": "markdown",
   "metadata": {
    "_cell_guid": "40a30bcf-501d-4c3d-9fc1-f5bd78d09d3c",
    "_uuid": "7f180a02-1928-4aff-b35e-905ee4f132d5"
   },
   "source": [
    "Preprocess Image to detect only face"
   ]
  },
  {
   "cell_type": "code",
   "execution_count": 8,
   "metadata": {
    "_cell_guid": "eff34d03-c6f4-4d53-a98f-08e18c6c522f",
    "_uuid": "d1d7f16a-3802-493d-819a-2edf972dd3c9"
   },
   "outputs": [
    {
     "data": {
      "text/plain": [
       "(35887, 2304)"
      ]
     },
     "execution_count": 8,
     "metadata": {},
     "output_type": "execute_result"
    }
   ],
   "source": [
    "X.shape"
   ]
  },
  {
   "cell_type": "code",
   "execution_count": 9,
   "metadata": {
    "_cell_guid": "e3c3cc20-e4cd-4008-928a-0265905c94d0",
    "_uuid": "3c220630-efcd-4c9f-aa0e-aae760b17c50"
   },
   "outputs": [],
   "source": [
    "# keras with tensorflow backend\n",
    "N,D = X.shape\n",
    "X = X.reshape(N, 48, 48, 1)"
   ]
  },
  {
   "cell_type": "markdown",
   "metadata": {
    "_cell_guid": "700486d6-b26c-4270-a756-d3eaa219fbdb",
    "_uuid": "ba8b2b84-5868-4f25-8ff6-42bf60c5dac6"
   },
   "source": [
    "**Split Train Test data**"
   ]
  },
  {
   "cell_type": "code",
   "execution_count": 10,
   "metadata": {
    "_cell_guid": "f0c0c175-a9f3-45cc-a918-aa4516c05e04",
    "_uuid": "3d90fc3a-c231-42bd-971c-fe22174ce101"
   },
   "outputs": [],
   "source": [
    "from sklearn.model_selection import train_test_split\n",
    "\n",
    "X_train, X_test, y_train, y_test = train_test_split(X, Y, test_size=0.2, random_state=42)\n",
    "y_train = (np.arange(num_class) == y_train[:, None]).astype(np.float32)\n",
    "y_test = (np.arange(num_class) == y_test[:, None]).astype(np.float32)"
   ]
  },
  {
   "cell_type": "code",
   "execution_count": 11,
   "metadata": {
    "_cell_guid": "e9f8cef6-2af6-4e12-9cc2-5b8df3285567",
    "_uuid": "48110794-4f44-40d9-9f33-6a4141df74d9"
   },
   "outputs": [
    {
     "data": {
      "image/png": "[encoded data removed]",
      "text/plain": [
       "<Figure size 432x288 with 1 Axes>"
      ]
     },
     "metadata": {
      "needs_background": "light"
     },
     "output_type": "display_data"
    }
   ],
   "source": [
    "img = X_train[780].reshape(48,48)\n",
    "plt.imshow(img, interpolation='nearest')\n",
    "plt.show()"
   ]
  },
  {
   "cell_type": "code",
   "execution_count": 12,
   "metadata": {
    "_cell_guid": "b163b44c-3842-44ce-a8d6-7965544d56e9",
    "_uuid": "741fc02d-b87d-4c0f-8b64-8fc9cdad3907"
   },
   "outputs": [],
   "source": [
    "from keras.applications import VGG19\n",
    "#Load the VGG model\n",
    "vgg_conv = VGG19(weights=None, include_top=False, input_shape=(48, 48,1))"
   ]
  },
  {
   "cell_type": "code",
   "execution_count": 13,
   "metadata": {
    "_cell_guid": "7aa46a29-439e-4f6c-8216-4be2c25fca92",
    "_uuid": "7f5a2286-04e8-4e81-beba-1f7b4895adf8"
   },
   "outputs": [],
   "source": [
    "def vgg_custom():\n",
    "    model = Sequential()\n",
    "    #add vgg conv model\n",
    "    model.add(vgg_conv)\n",
    "    \n",
    "    #add new layers\n",
    "    model.add(Flatten())\n",
    "    model.add(Dense(7,  kernel_initializer='normal'))\n",
    "    model.compile(loss='mean_squared_error', optimizer=Adadelta())\n",
    "    #model.compile(loss='mean_squared_error', optimizer=Adam())\n",
    "    \n",
    "    return model"
   ]
  },
  {
   "cell_type": "code",
   "execution_count": 14,
   "metadata": {
    "_cell_guid": "f52c3870-966d-42a9-a435-8b40af7a2206",
    "_uuid": "52d3bef1-8bb5-4b68-a385-802dfd39eabd",
    "colab": {
     "base_uri": "https://localhost:8080/",
     "height": 734
    },
    "colab_type": "code",
    "id": "Gjmj9Cz3VT1b",
    "outputId": "2ffb75fb-f6eb-4f49-8afe-68e86641b5f4"
   },
   "outputs": [
    {
     "name": "stdout",
     "output_type": "stream",
     "text": [
      "_________________________________________________________________\n",
      "Layer (type)                 Output Shape              Param #   \n",
      "=================================================================\n",
      "vgg19 (Model)                (None, 1, 1, 512)         20023232  \n",
      "_________________________________________________________________\n",
      "flatten_1 (Flatten)          (None, 512)               0         \n",
      "_________________________________________________________________\n",
      "dense_1 (Dense)              (None, 7)                 3591      \n",
      "=================================================================\n",
      "Total params: 20,026,823\n",
      "Trainable params: 20,026,823\n",
      "Non-trainable params: 0\n",
      "_________________________________________________________________\n"
     ]
    }
   ],
   "source": [
    "model = vgg_custom()\n",
    "model.summary()"
   ]
  },
  {
   "cell_type": "code",
   "execution_count": 15,
   "metadata": {
    "_cell_guid": "29856abe-045e-45d5-a256-1bce20b57ca6",
    "_uuid": "7011155d-ba28-4fe4-914c-b660771836be",
    "colab": {},
    "colab_type": "code",
    "id": "8CNczAIPVhDy"
   },
   "outputs": [],
   "source": [
    "from keras import callbacks\n",
    "filename='model_train_new.csv'\n",
    "filepath=\"Best-weights-my_model-{epoch:03d}-{loss:.4f}-{acc:.4f}.hdf5\"\n",
    "\n",
    "csv_log=callbacks.CSVLogger(filename, separator=',', append=False)\n",
    "checkpoint = callbacks.ModelCheckpoint(filepath, monitor='val_loss', verbose=1, save_best_only=True, mode='min')\n",
    "callbacks_list = [csv_log,checkpoint]\n",
    "callbacks_list = [csv_log]"
   ]
  },
  {
   "cell_type": "markdown",
   "metadata": {
    "_cell_guid": "ea085cb2-a4c1-4011-98f5-61c20aec901c",
    "_uuid": "e2a49638-ce31-4356-b866-164ae3f4b295"
   },
   "source": [
    "Image Augmentation"
   ]
  },
  {
   "cell_type": "code",
   "execution_count": 16,
   "metadata": {
    "_cell_guid": "f1e1ef4d-5da6-4739-a56e-0b52ff554824",
    "_uuid": "a8b312f0-963d-48a1-a083-986f25f31e58"
   },
   "outputs": [],
   "source": [
    "aug = ImageDataGenerator(\n",
    "    rotation_range=25, width_shift_range=0.1,\n",
    "    height_shift_range=0.1, shear_range=0.2, \n",
    "    zoom_range=0.2,horizontal_flip=True, \n",
    "    fill_mode=\"nearest\")"
   ]
  },
  {
   "cell_type": "markdown",
   "metadata": {
    "_cell_guid": "0adac51e-0ee8-4485-b2c5-f08e56824ff1",
    "_uuid": "1985afd4-c081-4750-b0ac-bcc7d5eaea27"
   },
   "source": [
    "Define Batch Size and Epoch iteration"
   ]
  },
  {
   "cell_type": "code",
   "execution_count": 17,
   "metadata": {
    "_cell_guid": "6a96c081-4fc5-44da-ba71-977a84d2589f",
    "_uuid": "108489aa-1b59-4f4a-9b0e-95ec38debc43"
   },
   "outputs": [],
   "source": [
    "BS =8\n",
    "EPOCHS = 50"
   ]
  },
  {
   "cell_type": "code",
   "execution_count": 18,
   "metadata": {
    "_cell_guid": "8e2e2fcd-2d66-47c6-a88f-70f99efdc719",
    "_uuid": "e54fb378-8a18-4031-abc0-57ea46747a9b"
   },
   "outputs": [
    {
     "data": {
      "text/plain": [
       "28709"
      ]
     },
     "execution_count": 18,
     "metadata": {},
     "output_type": "execute_result"
    }
   ],
   "source": [
    "len(X_train)"
   ]
  },
  {
   "cell_type": "markdown",
   "metadata": {
    "_cell_guid": "afc69c53-8945-49f8-9ff6-ae62bc2bb4b7",
    "_uuid": "ece03a4e-46c9-40d5-b955-8b730c049c15"
   },
   "source": [
    "Fit augmentated Data into model"
   ]
  },
  {
   "cell_type": "code",
   "execution_count": 19,
   "metadata": {
    "_cell_guid": "32f82601-850a-4a89-b198-5afb6f3bb500",
    "_uuid": "de2a6fb1-8b73-4088-a748-d5ca16fa0546",
    "colab": {
     "base_uri": "https://localhost:8080/",
     "height": 1980
    },
    "colab_type": "code",
    "id": "7s8Uy0G8WnTa",
    "outputId": "a5ce06fa-576f-47b0-b6d8-da606e32fd7f"
   },
   "outputs": [
    {
     "name": "stdout",
     "output_type": "stream",
     "text": [
      "Train on 28709 samples, validate on 7178 samples\n",
      "Epoch 1/50\n",
      "28709/28709 [==============================] - 112s 4ms/step - loss: 0.1186 - val_loss: 0.1185\n",
      "Epoch 2/50\n",
      "28709/28709 [==============================] - 102s 4ms/step - loss: 0.1184 - val_loss: 0.1184\n",
      "Epoch 3/50\n",
      "28709/28709 [==============================] - 101s 4ms/step - loss: 0.1184 - val_loss: 0.1186\n",
      "Epoch 4/50\n",
      "  648/28709 [..............................] - ETA: 1:37 - loss: 0.1191"
     ]
    }
   ],
   "source": [
    "history = model.fit(\n",
    "    X_train, y_train, batch_size=BS,\n",
    "    validation_data=(X_test, y_test),\n",
    "    epochs=EPOCHS, verbose=1,\n",
    "    callbacks = callbacks_list \n",
    "    ,shuffle = True\n",
    "    )"
   ]
  },
  {
   "cell_type": "code",
   "execution_count": 20,
   "metadata": {
    "_cell_guid": "be95c2c5-494c-4c7e-8785-468c66b8d477",
    "_uuid": "a4d0c7ec-c70a-4b4c-ac27-6f450af231aa",
    "colab": {},
    "colab_type": "code",
    "id": "tYAXlAm7WzSw"
   },
   "outputs": [],
   "source": [
    "#Model Save\n",
    "model.save_weights('model_weights.h5')\n",
    "model.save('model_keras.h5')"
   ]
  },
  {
   "cell_type": "code",
   "execution_count": 21,
   "metadata": {
    "_cell_guid": "d165eea0-9aac-413a-bd31-a04dfc338400",
    "_uuid": "8b05676c-9bf1-4505-9b9b-8ec4b77548fd"
   },
   "outputs": [],
   "source": [
    "hist = history"
   ]
  },
  {
   "cell_type": "code",
   "execution_count": 22,
   "metadata": {
    "_cell_guid": "74203866-e4a9-4586-80ea-79f1f8505cb3",
    "_uuid": "25a77b9d-2c07-4f4d-a86f-69781d511f70",
    "colab": {
     "base_uri": "https://localhost:8080/",
     "height": 581
    },
    "colab_type": "code",
    "id": "Enxigu7LYX5e",
    "outputId": "05f9582a-efd7-41ee-a2ae-0443a9b13440"
   },
   "outputs": [
    {
     "data": {
      "image/png": "[encoded data removed]",
      "text/plain": [
       "<Figure size 432x288 with 1 Axes>"
      ]
     },
     "metadata": {
      "needs_background": "light"
     },
     "output_type": "display_data"
    },
    {
     "data": {
      "text/plain": [
       "<Figure size 432x288 with 0 Axes>"
      ]
     },
     "metadata": {},
     "output_type": "display_data"
    }
   ],
   "source": [
    "# visualizing losses and accuracy\n",
    "# %matplotlib inline\n",
    "\n",
    "train_loss=hist.history['loss']\n",
    "val_loss=hist.history['val_loss']\n",
    "#train_acc=hist.history['acc']\n",
    "#val_acc=hist.history['val_acc']\n",
    "\n",
    "epochs = range(len(val_loss))\n",
    "\n",
    "plt.plot(epochs,train_loss,'r-o', label='train_loss')\n",
    "plt.plot(epochs,val_loss,'b', label='val_loss')\n",
    "plt.title('train_loss vs val_loss')\n",
    "#plt.plot(epochs,train_loss,'r-o', label='train_acc')\n",
    "#plt.plot(epochs,val_loss,'b', label='val_acc')\n",
    "#plt.title('train_acc vs val_acc')\n",
    "plt.title('train_loss vs val_loss')\n",
    "plt.legend()\n",
    "plt.figure()\n",
    "#plt.savefig('train_test_acc.png')\n",
    "plt.savefig('train_test.png')"
   ]
  },
  {
   "cell_type": "code",
   "execution_count": null,
   "metadata": {
    "_cell_guid": "332b9753-d871-45d5-abec-e07d844e5aad",
    "_uuid": "9c838421-77ec-4a4f-8c68-e3e595e8143d"
   },
   "outputs": [],
   "source": [
    "#train_acc=hist.history['acc']\n",
    "val_acc=hist.history['val_acc']\n",
    "epochs=range(len(val_acc))\n",
    "plt.plot(epochs,train_acc,'r-o', label='train_acc')\n",
    "plt.plot(epochs, val_acc,'b', label='val_acc')\n",
    "plt.title('train_acc vs val_acc')\n",
    "plt.legend()\n",
    "plt.figure()\n",
    "plt.savefig('Acc_Train_Val.png')"
   ]
  },
  {
   "cell_type": "code",
   "execution_count": 24,
   "metadata": {
    "_cell_guid": "a28584b5-0a51-464f-941b-89e29b3ff8e3",
    "_uuid": "da389b7c-8a8f-4580-921f-e882243e81b8"
   },
   "outputs": [
    {
     "name": "stdout",
     "output_type": "stream",
     "text": [
      "[0.11855908616764294, 0.11842907968608932, 0.11838879445389631, 0.1184295225701506, 0.11842572702551474, 0.11842061663260259, 0.11843349138068665, 0.1184283441078028, 0.118461940968924, 0.11840577965399918, 0.11844989509423319, 0.11843725812345252, 0.11846803363222261, 0.11842679428842076, 0.11843006439311589, 0.11847248701934401, 0.11847113633333127, 0.11815907602278582, 0.11637183834303176, 0.105570076128782, 0.09804721897001936, 0.09293023920196439, 0.08882574293239641, 0.0849769448540258, 0.08188359991788839, 0.07851003124111477, 0.07577913117550347, 0.07293307900015096, 0.06973430550876152, 0.06718300157327672, 0.06422038333270352, 0.06163000483412304, 0.059098802589418825, 0.0558196900482446, 0.053116632108754856, 0.05085504408422301, 0.0490602557174816, 0.04703899426459562, 0.04444685037417466, 0.043522028848131146, 0.041641408815371574, 0.039707824293403804, 0.039227224493065066, 0.03567013764265909, 0.03489506371707796, 0.034436403515988506, 0.03195872175394648, 0.030613498446194248, 0.02974214240324182, 0.028334509850296345]\n"
     ]
    }
   ],
   "source": [
    "print(train_loss)"
   ]
  },
  {
   "cell_type": "code",
   "execution_count": 25,
   "metadata": {
    "_cell_guid": "a9a49522-d8db-4061-bc68-28e7480700ae",
    "_uuid": "30a0cf93-e4a8-4dd8-8ab9-7b3681150df6"
   },
   "outputs": [
    {
     "name": "stdout",
     "output_type": "stream",
     "text": [
      "[0.11847006167316543, 0.11842500765315667, 0.11861256099189016, 0.11877626776446137, 0.1184539941940576, 0.11846830556571368, 0.11851591207284255, 0.11860136370135403, 0.11842821177648415, 0.11881272191289209, 0.11840588908967417, 0.11823809402430413, 0.11855937240556542, 0.1182858130644709, 0.1188369933199205, 0.11849290492907312, 0.11835013161000517, 0.1185793251289103, 0.11443806187825536, 0.10103295489784468, 0.09912892916792779, 0.09134772695200329, 0.08931349688301714, 0.08593053956339372, 0.08314212692310366, 0.08593167935587065, 0.08967014356065042, 0.08501016413785183, 0.08510594099228612, 0.08273012305649584, 0.08402174920586863, 0.08296253122586532, 0.08279041918739365, 0.08831901297463153, 0.0854419044741318, 0.09117737573364687, 0.08396258990143578, 0.08815373889904694, 0.0887977896581564, 0.08729700154790176, 0.08631573645120362, 0.090297746195181, 0.09274330845387592, 0.08922004027307183, 0.09248693883481315, 0.09396501334721945, 0.09543156377528995, 0.09269449171083664, 0.0958596974991181, 0.08981919074008086]\n"
     ]
    }
   ],
   "source": [
    "print(val_loss)"
   ]
  },
  {
   "cell_type": "code",
   "execution_count": 26,
   "metadata": {
    "_cell_guid": "08ce9cdf-aa35-4e6b-9975-ce3d24a52759",
    "_uuid": "95fc4108-f835-4b1e-80cf-20ac423a012e",
    "colab": {
     "base_uri": "https://localhost:8080/",
     "height": 707
    },
    "colab_type": "code",
    "id": "nvqxVr7qYbxX",
    "outputId": "3554ef0e-d6b6-4956-ef8a-6ff78f88246c"
   },
   "outputs": [
    {
     "name": "stdout",
     "output_type": "stream",
     "text": [
      "Test Loss: 0.08981917751602689\n",
      "(1, 48, 48, 1)\n",
      "[[-0.00246421 -0.00262576 -0.00140199  0.8853971   0.0199521   0.02601492\n",
      "   0.07601154]]\n",
      "[3]\n",
      "[[0. 0. 0. 1. 0. 0. 0.]]\n"
     ]
    },
    {
     "data": {
      "text/plain": [
       "<Figure size 720x720 with 0 Axes>"
      ]
     },
     "execution_count": 26,
     "metadata": {},
     "output_type": "execute_result"
    },
    {
     "data": {
      "text/plain": [
       "<Figure size 720x720 with 0 Axes>"
      ]
     },
     "metadata": {},
     "output_type": "display_data"
    }
   ],
   "source": [
    "# Evaluating the model\n",
    "score = model.evaluate(X_test, y_test, verbose=0)\n",
    "print('Test Loss:', score)\n",
    "\n",
    "test_image = X_test[0:1]\n",
    "print (test_image.shape)\n",
    "\n",
    "#predict\n",
    "y_pred = model.predict(X_test) \n",
    "\n",
    "print(model.predict(test_image))\n",
    "print(model.predict_classes(test_image))\n",
    "print(y_test[0:1])\n",
    "\n",
    "res = model.predict_classes(X_test[9:18])\n",
    "plt.figure(figsize=(10, 10))"
   ]
  },
  {
   "cell_type": "code",
   "execution_count": 27,
   "metadata": {
    "_cell_guid": "8c5c7e98-1113-428d-825c-7439d2299b86",
    "_uuid": "ff450b3e-2969-417d-8c8f-ba1079ea16e9"
   },
   "outputs": [],
   "source": [
    "from sklearn.metrics import confusion_matrix\n",
    "results = model.predict_classes(X_test)\n",
    "cm = confusion_matrix(np.where(y_test == 1)[1], results)\n",
    "#cm = cm.astype(np.float) / cm.sum(axis=1)[:, np.newaxis]"
   ]
  },
  {
   "cell_type": "markdown",
   "metadata": {
    "_cell_guid": "5950fd7f-a641-49e2-8b40-b121349a56be",
    "_uuid": "319f4992-5e9c-400c-95cf-180313ae3dd1"
   },
   "source": [
    "Confusion Matrix"
   ]
  },
  {
   "cell_type": "code",
   "execution_count": 28,
   "metadata": {
    "_cell_guid": "d1925f94-4f0d-42cf-aab9-ab9f6e940a78",
    "_uuid": "5cbdb01f-059a-40a7-b572-7c52615d0753"
   },
   "outputs": [],
   "source": [
    "import seaborn as sns"
   ]
  },
  {
   "cell_type": "code",
   "execution_count": 29,
   "metadata": {
    "_cell_guid": "c23850e0-7243-4eaa-b5f8-4db4aaba2a27",
    "_uuid": "c2f16bbd-b4b7-4ace-a362-77636f504cfd"
   },
   "outputs": [],
   "source": [
    "label_mapdisgust = ['Anger', 'Disgust', 'Fear', 'Happy', 'Sad', 'Surprise', 'Neutral']"
   ]
  },
  {
   "cell_type": "code",
   "execution_count": 30,
   "metadata": {
    "_cell_guid": "dec16fe0-270a-40c0-a971-5d24870212c2",
    "_uuid": "64a85d68-56a2-4c62-a5e3-9b183958244a"
   },
   "outputs": [],
   "source": [
    "#Transform to df for easier plotting\n",
    "cm_df = pd.DataFrame(cm, index = label_mapdisgust,\n",
    "                     columns = label_mapdisgust\n",
    "                    )"
   ]
  },
  {
   "cell_type": "code",
   "execution_count": 31,
   "metadata": {
    "_cell_guid": "1cfe6756-f19d-4118-be7b-598ecd2f1deb",
    "_uuid": "43f4a183-3282-47b3-97f1-48be08b51cf0"
   },
   "outputs": [],
   "source": [
    "final_cm = cm_df.drop('Disgust',axis=0)\n",
    "final_cm = final_cm.drop('Disgust',axis=1)"
   ]
  },
  {
   "cell_type": "code",
   "execution_count": 32,
   "metadata": {
    "_cell_guid": "351a344a-a794-4758-b802-7a48a1a54a36",
    "_uuid": "46c4b35d-b34b-423c-baba-307ecdcfd77b"
   },
   "outputs": [
    {
     "data": {
      "text/html": [
       "<div>\n",
       "<style scoped>\n",
       "    .dataframe tbody tr th:only-of-type {\n",
       "        vertical-align: middle;\n",
       "    }\n",
       "\n",
       "    .dataframe tbody tr th {\n",
       "        vertical-align: top;\n",
       "    }\n",
       "\n",
       "    .dataframe thead th {\n",
       "        text-align: right;\n",
       "    }\n",
       "</style>\n",
       "<table border=\"1\" class=\"dataframe\">\n",
       "  <thead>\n",
       "    <tr style=\"text-align: right;\">\n",
       "      <th></th>\n",
       "      <th>Anger</th>\n",
       "      <th>Fear</th>\n",
       "      <th>Happy</th>\n",
       "      <th>Sad</th>\n",
       "      <th>Surprise</th>\n",
       "      <th>Neutral</th>\n",
       "    </tr>\n",
       "  </thead>\n",
       "  <tbody>\n",
       "    <tr>\n",
       "      <th>Anger</th>\n",
       "      <td>494</td>\n",
       "      <td>165</td>\n",
       "      <td>43</td>\n",
       "      <td>139</td>\n",
       "      <td>13</td>\n",
       "      <td>128</td>\n",
       "    </tr>\n",
       "    <tr>\n",
       "      <th>Fear</th>\n",
       "      <td>123</td>\n",
       "      <td>486</td>\n",
       "      <td>39</td>\n",
       "      <td>206</td>\n",
       "      <td>73</td>\n",
       "      <td>115</td>\n",
       "    </tr>\n",
       "    <tr>\n",
       "      <th>Happy</th>\n",
       "      <td>71</td>\n",
       "      <td>85</td>\n",
       "      <td>1375</td>\n",
       "      <td>94</td>\n",
       "      <td>27</td>\n",
       "      <td>112</td>\n",
       "    </tr>\n",
       "    <tr>\n",
       "      <th>Sad</th>\n",
       "      <td>140</td>\n",
       "      <td>193</td>\n",
       "      <td>69</td>\n",
       "      <td>567</td>\n",
       "      <td>11</td>\n",
       "      <td>227</td>\n",
       "    </tr>\n",
       "    <tr>\n",
       "      <th>Surprise</th>\n",
       "      <td>36</td>\n",
       "      <td>125</td>\n",
       "      <td>55</td>\n",
       "      <td>29</td>\n",
       "      <td>520</td>\n",
       "      <td>29</td>\n",
       "    </tr>\n",
       "    <tr>\n",
       "      <th>Neutral</th>\n",
       "      <td>94</td>\n",
       "      <td>119</td>\n",
       "      <td>104</td>\n",
       "      <td>242</td>\n",
       "      <td>23</td>\n",
       "      <td>696</td>\n",
       "    </tr>\n",
       "  </tbody>\n",
       "</table>\n",
       "</div>"
      ],
      "text/plain": [
       "          Anger  Fear  Happy  Sad  Surprise  Neutral\n",
       "Anger       494   165     43  139        13      128\n",
       "Fear        123   486     39  206        73      115\n",
       "Happy        71    85   1375   94        27      112\n",
       "Sad         140   193     69  567        11      227\n",
       "Surprise     36   125     55   29       520       29\n",
       "Neutral      94   119    104  242        23      696"
      ]
     },
     "execution_count": 32,
     "metadata": {},
     "output_type": "execute_result"
    }
   ],
   "source": [
    "final_cm"
   ]
  },
  {
   "cell_type": "code",
   "execution_count": 33,
   "metadata": {
    "_cell_guid": "f1960bba-a8ac-4114-bb75-d9ae3c5cdfca",
    "_uuid": "fcd442b8-3624-4795-a427-22a96b901d2d"
   },
   "outputs": [
    {
     "data": {
      "image/png": "[encoded data removed]",
      "text/plain": [
       "<Figure size 360x360 with 1 Axes>"
      ]
     },
     "metadata": {
      "needs_background": "light"
     },
     "output_type": "display_data"
    }
   ],
   "source": [
    "plt.figure(figsize = (5,5))\n",
    "sns.heatmap(final_cm, annot = True,cmap='Greys',cbar=False,linewidth=2,fmt='d')\n",
    "plt.title('CNN Emotion Classify')\n",
    "plt.ylabel('True class')\n",
    "plt.xlabel('Prediction class')\n",
    "plt.show()"
   ]
  },
  {
   "cell_type": "markdown",
   "metadata": {
    "_cell_guid": "94283e8a-afa7-4c37-a1a6-d34a9c72510e",
    "_uuid": "7c6ca485-5b49-415a-9cda-e31f5232b1af"
   },
   "source": [
    "ROC Curve"
   ]
  },
  {
   "cell_type": "code",
   "execution_count": 34,
   "metadata": {
    "_cell_guid": "dd75c02d-25b5-4e08-8813-4cb70cd5c1c7",
    "_uuid": "bee87316-7cc8-4a68-b4ea-561e5fa63f23"
   },
   "outputs": [],
   "source": [
    "from sklearn.metrics import roc_curve,auc\n",
    "from itertools import cycle"
   ]
  },
  {
   "cell_type": "code",
   "execution_count": 35,
   "metadata": {
    "_cell_guid": "b3e41a80-d3c7-4937-8dc6-d0200ba85ffb",
    "_uuid": "c1c89f86-a5fe-44f4-803a-6ca5302df5ae"
   },
   "outputs": [],
   "source": [
    "new_label = ['Anger', 'Fear', 'Happy', 'Sad', 'Surprise', 'Neutral']\n",
    "final_label = new_label\n",
    "new_class = 6"
   ]
  },
  {
   "cell_type": "code",
   "execution_count": 36,
   "metadata": {
    "_cell_guid": "72e259af-3e74-472a-b51f-cc9e60f0615c",
    "_uuid": "578b98bf-7ac3-49f5-b01f-b8340627567a"
   },
   "outputs": [],
   "source": [
    "#ravel flatten the array into single vector\n",
    "y_pred_ravel = y_pred.ravel()\n",
    "lw = 2"
   ]
  },
  {
   "cell_type": "code",
   "execution_count": 37,
   "metadata": {
    "_cell_guid": "2ecfa6e4-ec0b-44c3-ba48-26c777bbcea0",
    "_uuid": "3c094987-c4ea-4bc1-9af3-cd4d3ffc3ff1"
   },
   "outputs": [
    {
     "data": {
      "image/png": "[encoded data removed]",
      "text/plain": [
       "<Figure size 432x288 with 1 Axes>"
      ]
     },
     "metadata": {
      "needs_background": "light"
     },
     "output_type": "display_data"
    }
   ],
   "source": [
    "fpr = dict()\n",
    "tpr = dict()\n",
    "roc_auc = dict()\n",
    "\n",
    "for i in range(new_class):\n",
    "    fpr[i], tpr[i], _ = roc_curve(y_test[:,i], y_pred[:,i])\n",
    "    roc_auc[i] = auc(fpr[i], tpr[i])\n",
    "    \n",
    "#colors = cycle(['red', 'green','black'])\n",
    "colors = cycle(['red', 'green','black','blue', 'yellow','purple'])\n",
    "for i, color in zip(range(new_class), colors):\n",
    "    plt.plot(fpr[i], tpr[i], color=color, lw=lw,\n",
    "             label='ROC curve of class {0}'''.format(final_label[i]))\n",
    "    \n",
    "\n",
    "plt.plot([0, 1], [0, 1], 'k--', lw=lw)\n",
    "plt.xlim([0, 1.0])\n",
    "plt.ylim([0.0, 1.05])\n",
    "plt.xlabel('False Positive Rate')\n",
    "plt.ylabel('True Positive Rate')\n",
    "plt.title('Receiver Operating Characteristic')\n",
    "plt.legend(loc=\"lower right\")\n",
    "plt.show()"
   ]
  }
 ],
 "metadata": {
  "kernelspec": {
   "display_name": "Python 3 (ipykernel)",
   "language": "python",
   "name": "python3"
  },
  "language_info": {
   "codemirror_mode": {
    "name": "ipython",
    "version": 3
   },
   "file_extension": ".py",
   "mimetype": "text/x-python",
   "name": "python",
   "nbconvert_exporter": "python",
   "pygments_lexer": "ipython3",
   "version": "3.9.7"
  }
 },
 "nbformat": 4,
 "nbformat_minor": 4
}
