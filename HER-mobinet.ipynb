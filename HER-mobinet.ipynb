{
 "cells": [
  {
   "cell_type": "markdown",
   "id": "9bf5710a",
   "metadata": {
    "papermill": {
     "duration": 0.008109,
     "end_time": "2022-08-26T09:01:24.848701",
     "exception": false,
     "start_time": "2022-08-26T09:01:24.840592",
     "status": "completed"
    },
    "tags": []
   },
   "source": [
    "# 1. Import Libraries"
   ]
  },
  {
   "cell_type": "code",
   "execution_count": 1,
   "id": "26fb04c2",
   "metadata": {
    "execution": {
     "iopub.execute_input": "2022-08-26T09:01:24.864934Z",
     "iopub.status.busy": "2022-08-26T09:01:24.864108Z",
     "iopub.status.idle": "2022-08-26T09:01:30.988794Z",
     "shell.execute_reply": "2022-08-26T09:01:30.987703Z"
    },
    "papermill": {
     "duration": 6.135689,
     "end_time": "2022-08-26T09:01:30.991363",
     "exception": false,
     "start_time": "2022-08-26T09:01:24.855674",
     "status": "completed"
    },
    "tags": []
   },
   "outputs": [
    {
     "name": "stdout",
     "output_type": "stream",
     "text": [
      "done\n"
     ]
    }
   ],
   "source": [
    "import os\n",
    "import keras\n",
    "import itertools\n",
    "import numpy as np\n",
    "import pandas as pd\n",
    "import seaborn as sn\n",
    "from collections import Counter\n",
    "import matplotlib.pyplot as plt\n",
    "\n",
    "import tensorflow as tf\n",
    "from tensorflow.keras.preprocessing import image\n",
    "from tensorflow.keras.preprocessing.image import ImageDataGenerator, load_img\n",
    "\n",
    "from tensorflow.keras.models import Model, Sequential\n",
    "from tensorflow.keras.applications import VGG16, MobileNetV2\n",
    "from tensorflow.keras.layers import Dense, Flatten, Dropout,BatchNormalization ,Activation, GlobalAveragePooling2D\n",
    "from tensorflow.keras.layers import GaussianNoise\n",
    "from tensorflow.keras import regularizers\n",
    "\n",
    "import keras.backend as K\n",
    "from tensorflow.keras.optimizers import Adam\n",
    "from sklearn.metrics import classification_report, confusion_matrix\n",
    "from tensorflow.keras.callbacks import ReduceLROnPlateau,ModelCheckpoint,EarlyStopping\n",
    "\n",
    "from IPython.display import Image, HTML\n",
    "from tensorflow.keras.utils import plot_model\n",
    "\n",
    "print('done')"
   ]
  },
  {
   "cell_type": "markdown",
   "id": "ed10c473",
   "metadata": {
    "papermill": {
     "duration": 0.006991,
     "end_time": "2022-08-26T09:01:31.005395",
     "exception": false,
     "start_time": "2022-08-26T09:01:30.998404",
     "status": "completed"
    },
    "tags": []
   },
   "source": [
    "# 2. Parameter"
   ]
  },
  {
   "cell_type": "code",
   "execution_count": 2,
   "id": "d1d02096",
   "metadata": {
    "execution": {
     "iopub.execute_input": "2022-08-26T09:01:31.020712Z",
     "iopub.status.busy": "2022-08-26T09:01:31.020201Z",
     "iopub.status.idle": "2022-08-26T09:01:31.025947Z",
     "shell.execute_reply": "2022-08-26T09:01:31.025018Z"
    },
    "papermill": {
     "duration": 0.016362,
     "end_time": "2022-08-26T09:01:31.028614",
     "exception": false,
     "start_time": "2022-08-26T09:01:31.012252",
     "status": "completed"
    },
    "tags": []
   },
   "outputs": [
    {
     "name": "stdout",
     "output_type": "stream",
     "text": [
      "done\n"
     ]
    }
   ],
   "source": [
    "# declare path\n",
    "train_path = 'fer2013/train/'\n",
    "test_path = 'fer2013/test/'\n",
    "\n",
    "# Image size\n",
    "\n",
    "img_size = (48,48)\n",
    "img_shape = img_size + (3,)\n",
    "\n",
    "classes=['Angry','Disgust','Fear','Happy','Neutral','Sad','Surprise']\n",
    "print('done')"
   ]
  },
  {
   "cell_type": "markdown",
   "id": "1610a48b",
   "metadata": {
    "papermill": {
     "duration": 0.006389,
     "end_time": "2022-08-26T09:01:31.042503",
     "exception": false,
     "start_time": "2022-08-26T09:01:31.036114",
     "status": "completed"
    },
    "tags": []
   },
   "source": [
    "# 3. Prepare data"
   ]
  },
  {
   "cell_type": "markdown",
   "id": "b7a2e3e4-392c-454f-a2c8-065f4c444a50",
   "metadata": {},
   "source": [
    " Data augmentation"
   ]
  },
  {
   "cell_type": "code",
   "execution_count": 3,
   "id": "1c56017a",
   "metadata": {
    "execution": {
     "iopub.execute_input": "2022-08-26T09:01:31.057123Z",
     "iopub.status.busy": "2022-08-26T09:01:31.056290Z",
     "iopub.status.idle": "2022-08-26T09:01:31.063174Z",
     "shell.execute_reply": "2022-08-26T09:01:31.061888Z"
    },
    "papermill": {
     "duration": 0.016794,
     "end_time": "2022-08-26T09:01:31.065821",
     "exception": false,
     "start_time": "2022-08-26T09:01:31.049027",
     "status": "completed"
    },
    "tags": []
   },
   "outputs": [
    {
     "name": "stdout",
     "output_type": "stream",
     "text": [
      "done\n"
     ]
    }
   ],
   "source": [
    "train_datagen = ImageDataGenerator(rescale = 1./255,\n",
    "                                   featurewise_center=False,\n",
    "                                   featurewise_std_normalization=False,\n",
    "                                   rotation_range=10,\n",
    "                                   width_shift_range=0.1,\n",
    "                                   height_shift_range=0.1,\n",
    "                                   zoom_range=0.1,\n",
    "                                   horizontal_flip=True)\n",
    "\n",
    "test_datagen  = ImageDataGenerator(rescale = 1./255)\n",
    "print('done')"
   ]
  },
  {
   "cell_type": "markdown",
   "id": "f8fd82b3-22e6-4f74-a323-960931d88bae",
   "metadata": {},
   "source": [
    "Load datasat"
   ]
  },
  {
   "cell_type": "code",
   "execution_count": 4,
   "id": "5740e226",
   "metadata": {
    "execution": {
     "iopub.execute_input": "2022-08-26T09:01:31.080795Z",
     "iopub.status.busy": "2022-08-26T09:01:31.079992Z",
     "iopub.status.idle": "2022-08-26T09:01:58.565037Z",
     "shell.execute_reply": "2022-08-26T09:01:58.564024Z"
    },
    "papermill": {
     "duration": 27.495625,
     "end_time": "2022-08-26T09:01:58.568319",
     "exception": false,
     "start_time": "2022-08-26T09:01:31.072694",
     "status": "completed"
    },
    "tags": []
   },
   "outputs": [
    {
     "name": "stdout",
     "output_type": "stream",
     "text": [
      "Found 28709 images belonging to 7 classes.\n",
      "Found 7178 images belonging to 7 classes.\n",
      "done\n"
     ]
    }
   ],
   "source": [
    "train_dataset  = train_datagen.flow_from_directory(directory = train_path,\n",
    "                                                   target_size = img_size,\n",
    "                                                   class_mode = 'categorical',\n",
    "                                                   batch_size = 64)\n",
    "\n",
    "test_dataset = test_datagen.flow_from_directory(directory = test_path,\n",
    "                                                  target_size = img_size,\n",
    "                                                  class_mode = 'categorical',\n",
    "                                                  shuffle =True,\n",
    "                                                  batch_size = 64)\n",
    "print('done')"
   ]
  },
  {
   "cell_type": "markdown",
   "id": "3d58adbf",
   "metadata": {
    "papermill": {
     "duration": 0.006822,
     "end_time": "2022-08-26T09:01:58.584159",
     "exception": false,
     "start_time": "2022-08-26T09:01:58.577337",
     "status": "completed"
    },
    "tags": []
   },
   "source": [
    "# 4. Explore data"
   ]
  },
  {
   "cell_type": "code",
   "execution_count": 5,
   "id": "cbd16bbf",
   "metadata": {
    "execution": {
     "iopub.execute_input": "2022-08-26T09:01:58.599870Z",
     "iopub.status.busy": "2022-08-26T09:01:58.599473Z",
     "iopub.status.idle": "2022-08-26T09:01:58.607832Z",
     "shell.execute_reply": "2022-08-26T09:01:58.606818Z"
    },
    "papermill": {
     "duration": 0.018945,
     "end_time": "2022-08-26T09:01:58.610086",
     "exception": false,
     "start_time": "2022-08-26T09:01:58.591141",
     "status": "completed"
    },
    "tags": []
   },
   "outputs": [
    {
     "data": {
      "text/plain": [
       "{'angry': 0,\n",
       " 'disgust': 1,\n",
       " 'fear': 2,\n",
       " 'happy': 3,\n",
       " 'neutral': 4,\n",
       " 'sad': 5,\n",
       " 'surprise': 6}"
      ]
     },
     "execution_count": 5,
     "metadata": {},
     "output_type": "execute_result"
    }
   ],
   "source": [
    "# Data labels\n",
    "\n",
    "class_labels = test_dataset.class_indices\n",
    "class_labels"
   ]
  },
  {
   "cell_type": "markdown",
   "id": "870565c3-b170-4c22-bf0d-3c957c2c5306",
   "metadata": {},
   "source": [
    "See the shape of any data"
   ]
  },
  {
   "cell_type": "code",
   "execution_count": 6,
   "id": "8e1d5b9b",
   "metadata": {
    "execution": {
     "iopub.execute_input": "2022-08-26T09:01:58.626113Z",
     "iopub.status.busy": "2022-08-26T09:01:58.625394Z",
     "iopub.status.idle": "2022-08-26T09:01:59.011231Z",
     "shell.execute_reply": "2022-08-26T09:01:59.009951Z"
    },
    "papermill": {
     "duration": 0.396818,
     "end_time": "2022-08-26T09:01:59.013986",
     "exception": false,
     "start_time": "2022-08-26T09:01:58.617168",
     "status": "completed"
    },
    "tags": []
   },
   "outputs": [
    {
     "name": "stdout",
     "output_type": "stream",
     "text": [
      "(64, 48, 48, 3)\n"
     ]
    }
   ],
   "source": [
    "train_sample=next(train_dataset)\n",
    "print(train_sample[0].shape)"
   ]
  },
  {
   "cell_type": "markdown",
   "id": "aa0a5153-0ed4-49fd-8dfa-05049ff13af3",
   "metadata": {},
   "source": [
    "Total train/test sample"
   ]
  },
  {
   "cell_type": "code",
   "execution_count": 7,
   "id": "21e77b58",
   "metadata": {
    "execution": {
     "iopub.execute_input": "2022-08-26T09:01:59.030833Z",
     "iopub.status.busy": "2022-08-26T09:01:59.029407Z",
     "iopub.status.idle": "2022-08-26T09:01:59.054807Z",
     "shell.execute_reply": "2022-08-26T09:01:59.053965Z"
    },
    "papermill": {
     "duration": 0.035113,
     "end_time": "2022-08-26T09:01:59.056668",
     "exception": false,
     "start_time": "2022-08-26T09:01:59.021555",
     "status": "completed"
    },
    "tags": []
   },
   "outputs": [],
   "source": [
    "def count_exp(path, set_):\n",
    "    dict_ = {}\n",
    "    for expression in os.listdir(path):\n",
    "        dir_ = path + '/'+ expression\n",
    "        dict_[expression] = len(os.listdir(dir_))\n",
    "    df = pd.DataFrame(dict_, index=[set_])\n",
    "    return df\n",
    "train_count = count_exp(train_path, 'train')\n",
    "test_count = count_exp(test_path, 'test')\n",
    "\n"
   ]
  },
  {
   "cell_type": "markdown",
   "id": "0a7bbee2-f470-45bc-8f20-f38b5ef8a42b",
   "metadata": {},
   "source": [
    "lot distribution of train/test dataste per class"
   ]
  },
  {
   "cell_type": "code",
   "execution_count": 8,
   "id": "033d5131",
   "metadata": {
    "execution": {
     "iopub.execute_input": "2022-08-26T09:01:59.072553Z",
     "iopub.status.busy": "2022-08-26T09:01:59.071172Z",
     "iopub.status.idle": "2022-08-26T09:01:59.371863Z",
     "shell.execute_reply": "2022-08-26T09:01:59.370995Z"
    },
    "papermill": {
     "duration": 0.310303,
     "end_time": "2022-08-26T09:01:59.373821",
     "exception": false,
     "start_time": "2022-08-26T09:01:59.063518",
     "status": "completed"
    },
    "tags": []
   },
   "outputs": [
    {
     "data": {
      "image/png": "[encoded data removed]",
      "text/plain": [
       "<Figure size 864x504 with 1 Axes>"
      ]
     },
     "metadata": {
      "needs_background": "light"
     },
     "output_type": "display_data"
    }
   ],
   "source": [
    "x = list(test_count.columns)\n",
    "y1 =train_count.iloc[0].to_list()\n",
    "y2 = test_count.iloc[0].to_list()\n",
    "plt.figure(figsize=(12,7))\n",
    "\n",
    "plt.bar(x, y1, color='blue')\n",
    "plt.bar(x, y2, bottom=y1, color='red')\n",
    "plt.xlabel(\"Emotions\")\n",
    "plt.ylabel(\"Train & Test data\")\n",
    "plt.legend([\"Train\", \"Test\"], loc='upper left')\n",
    "plt.title(\"FER-2013\")\n",
    "plt.savefig('distribution.png')\n",
    "plt.show()"
   ]
  },
  {
   "cell_type": "markdown",
   "id": "5b027e46-188d-458b-82dc-aaf5a9117ebb",
   "metadata": {},
   "source": [
    "Plot image of each class"
   ]
  },
  {
   "cell_type": "code",
   "execution_count": 9,
   "id": "43f3a3e4",
   "metadata": {
    "execution": {
     "iopub.execute_input": "2022-08-26T09:01:59.389642Z",
     "iopub.status.busy": "2022-08-26T09:01:59.389357Z",
     "iopub.status.idle": "2022-08-26T09:01:59.799085Z",
     "shell.execute_reply": "2022-08-26T09:01:59.798146Z"
    },
    "papermill": {
     "duration": 0.420566,
     "end_time": "2022-08-26T09:01:59.801778",
     "exception": false,
     "start_time": "2022-08-26T09:01:59.381212",
     "status": "completed"
    },
    "tags": []
   },
   "outputs": [
    {
     "data": {
      "image/png": "[encoded data removed]",
      "text/plain": [
       "<Figure size 1008x1584 with 7 Axes>"
      ]
     },
     "metadata": {
      "needs_background": "light"
     },
     "output_type": "display_data"
    }
   ],
   "source": [
    "plt.figure(figsize=(14,22))\n",
    "i = 1\n",
    "for expression in os.listdir(train_path):\n",
    "    img = load_img((train_path + expression +'/'+ os.listdir(train_path + expression)[1]))\n",
    "    plt.subplot(1,7,i)\n",
    "    plt.imshow(img)\n",
    "    plt.title(expression)\n",
    "    plt.axis('off')\n",
    "    i += 1\n",
    "plt.show()"
   ]
  },
  {
   "cell_type": "markdown",
   "id": "5ea60e89",
   "metadata": {
    "papermill": {
     "duration": 0.007615,
     "end_time": "2022-08-26T09:01:59.817519",
     "exception": false,
     "start_time": "2022-08-26T09:01:59.809904",
     "status": "completed"
    },
    "tags": []
   },
   "source": [
    "# 5. Model"
   ]
  },
  {
   "cell_type": "markdown",
   "id": "5d73140d-f96b-4e51-948b-570e4dbfd344",
   "metadata": {},
   "source": [
    "# Mobinet"
   ]
  },
  {
   "cell_type": "code",
   "execution_count": 10,
   "id": "91c32cef",
   "metadata": {
    "execution": {
     "iopub.execute_input": "2022-08-26T09:01:59.834324Z",
     "iopub.status.busy": "2022-08-26T09:01:59.834039Z",
     "iopub.status.idle": "2022-08-26T09:02:04.445668Z",
     "shell.execute_reply": "2022-08-26T09:02:04.444611Z"
    },
    "papermill": {
     "duration": 4.62498,
     "end_time": "2022-08-26T09:02:04.450265",
     "exception": false,
     "start_time": "2022-08-26T09:01:59.825285",
     "status": "completed"
    },
    "tags": []
   },
   "outputs": [
    {
     "name": "stderr",
     "output_type": "stream",
     "text": [
      "2022-08-26 09:01:59.929426: I tensorflow/stream_executor/cuda/cuda_gpu_executor.cc:937] successful NUMA node read from SysFS had negative value (-1), but there must be at least one NUMA node, so returning NUMA node zero\n",
      "2022-08-26 09:02:00.075519: I tensorflow/stream_executor/cuda/cuda_gpu_executor.cc:937] successful NUMA node read from SysFS had negative value (-1), but there must be at least one NUMA node, so returning NUMA node zero\n",
      "2022-08-26 09:02:00.076330: I tensorflow/stream_executor/cuda/cuda_gpu_executor.cc:937] successful NUMA node read from SysFS had negative value (-1), but there must be at least one NUMA node, so returning NUMA node zero\n",
      "2022-08-26 09:02:00.078010: I tensorflow/core/platform/cpu_feature_guard.cc:142] This TensorFlow binary is optimized with oneAPI Deep Neural Network Library (oneDNN) to use the following CPU instructions in performance-critical operations:  AVX2 AVX512F FMA\n",
      "To enable them in other operations, rebuild TensorFlow with the appropriate compiler flags.\n",
      "2022-08-26 09:02:00.078330: I tensorflow/stream_executor/cuda/cuda_gpu_executor.cc:937] successful NUMA node read from SysFS had negative value (-1), but there must be at least one NUMA node, so returning NUMA node zero\n",
      "2022-08-26 09:02:00.079064: I tensorflow/stream_executor/cuda/cuda_gpu_executor.cc:937] successful NUMA node read from SysFS had negative value (-1), but there must be at least one NUMA node, so returning NUMA node zero\n",
      "2022-08-26 09:02:00.079702: I tensorflow/stream_executor/cuda/cuda_gpu_executor.cc:937] successful NUMA node read from SysFS had negative value (-1), but there must be at least one NUMA node, so returning NUMA node zero\n",
      "2022-08-26 09:02:02.367607: I tensorflow/stream_executor/cuda/cuda_gpu_executor.cc:937] successful NUMA node read from SysFS had negative value (-1), but there must be at least one NUMA node, so returning NUMA node zero\n",
      "2022-08-26 09:02:02.368472: I tensorflow/stream_executor/cuda/cuda_gpu_executor.cc:937] successful NUMA node read from SysFS had negative value (-1), but there must be at least one NUMA node, so returning NUMA node zero\n",
      "2022-08-26 09:02:02.369143: I tensorflow/stream_executor/cuda/cuda_gpu_executor.cc:937] successful NUMA node read from SysFS had negative value (-1), but there must be at least one NUMA node, so returning NUMA node zero\n",
      "2022-08-26 09:02:02.369730: I tensorflow/core/common_runtime/gpu/gpu_device.cc:1510] Created device /job:localhost/replica:0/task:0/device:GPU:0 with 15401 MB memory:  -> device: 0, name: Tesla P100-PCIE-16GB, pci bus id: 0000:00:04.0, compute capability: 6.0\n"
     ]
    },
    {
     "name": "stdout",
     "output_type": "stream",
     "text": [
      "Downloading data from https://storage.googleapis.com/tensorflow/keras-applications/mobilenet/mobilenet_1_0_224_tf_no_top.h5\n",
      "17227776/17225924 [==============================] - 1s 0us/step\n",
      "17235968/17225924 [==============================] - 1s 0us/step\n",
      "Model: \"mobilenet_1.00_224\"\n",
      "_________________________________________________________________\n",
      "Layer (type)                 Output Shape              Param #   \n",
      "=================================================================\n",
      "input_1 (InputLayer)         [(None, 48, 48, 3)]       0         \n",
      "_________________________________________________________________\n",
      "conv1 (Conv2D)               (None, 24, 24, 32)        864       \n",
      "_________________________________________________________________\n",
      "conv1_bn (BatchNormalization (None, 24, 24, 32)        128       \n",
      "_________________________________________________________________\n",
      "conv1_relu (ReLU)            (None, 24, 24, 32)        0         \n",
      "_________________________________________________________________\n",
      "conv_dw_1 (DepthwiseConv2D)  (None, 24, 24, 32)        288       \n",
      "_________________________________________________________________\n",
      "conv_dw_1_bn (BatchNormaliza (None, 24, 24, 32)        128       \n",
      "_________________________________________________________________\n",
      "conv_dw_1_relu (ReLU)        (None, 24, 24, 32)        0         \n",
      "_________________________________________________________________\n",
      "conv_pw_1 (Conv2D)           (None, 24, 24, 64)        2048      \n",
      "_________________________________________________________________\n",
      "conv_pw_1_bn (BatchNormaliza (None, 24, 24, 64)        256       \n",
      "_________________________________________________________________\n",
      "conv_pw_1_relu (ReLU)        (None, 24, 24, 64)        0         \n",
      "_________________________________________________________________\n",
      "conv_pad_2 (ZeroPadding2D)   (None, 25, 25, 64)        0         \n",
      "_________________________________________________________________\n",
      "conv_dw_2 (DepthwiseConv2D)  (None, 12, 12, 64)        576       \n",
      "_________________________________________________________________\n",
      "conv_dw_2_bn (BatchNormaliza (None, 12, 12, 64)        256       \n",
      "_________________________________________________________________\n",
      "conv_dw_2_relu (ReLU)        (None, 12, 12, 64)        0         \n",
      "_________________________________________________________________\n",
      "conv_pw_2 (Conv2D)           (None, 12, 12, 128)       8192      \n",
      "_________________________________________________________________\n",
      "conv_pw_2_bn (BatchNormaliza (None, 12, 12, 128)       512       \n",
      "_________________________________________________________________\n",
      "conv_pw_2_relu (ReLU)        (None, 12, 12, 128)       0         \n",
      "_________________________________________________________________\n",
      "conv_dw_3 (DepthwiseConv2D)  (None, 12, 12, 128)       1152      \n",
      "_________________________________________________________________\n",
      "conv_dw_3_bn (BatchNormaliza (None, 12, 12, 128)       512       \n",
      "_________________________________________________________________\n",
      "conv_dw_3_relu (ReLU)        (None, 12, 12, 128)       0         \n",
      "_________________________________________________________________\n",
      "conv_pw_3 (Conv2D)           (None, 12, 12, 128)       16384     \n",
      "_________________________________________________________________\n",
      "conv_pw_3_bn (BatchNormaliza (None, 12, 12, 128)       512       \n",
      "_________________________________________________________________\n",
      "conv_pw_3_relu (ReLU)        (None, 12, 12, 128)       0         \n",
      "_________________________________________________________________\n",
      "conv_pad_4 (ZeroPadding2D)   (None, 13, 13, 128)       0         \n",
      "_________________________________________________________________\n",
      "conv_dw_4 (DepthwiseConv2D)  (None, 6, 6, 128)         1152      \n",
      "_________________________________________________________________\n",
      "conv_dw_4_bn (BatchNormaliza (None, 6, 6, 128)         512       \n",
      "_________________________________________________________________\n",
      "conv_dw_4_relu (ReLU)        (None, 6, 6, 128)         0         \n",
      "_________________________________________________________________\n",
      "conv_pw_4 (Conv2D)           (None, 6, 6, 256)         32768     \n",
      "_________________________________________________________________\n",
      "conv_pw_4_bn (BatchNormaliza (None, 6, 6, 256)         1024      \n",
      "_________________________________________________________________\n",
      "conv_pw_4_relu (ReLU)        (None, 6, 6, 256)         0         \n",
      "_________________________________________________________________\n",
      "conv_dw_5 (DepthwiseConv2D)  (None, 6, 6, 256)         2304      \n",
      "_________________________________________________________________\n",
      "conv_dw_5_bn (BatchNormaliza (None, 6, 6, 256)         1024      \n",
      "_________________________________________________________________\n",
      "conv_dw_5_relu (ReLU)        (None, 6, 6, 256)         0         \n",
      "_________________________________________________________________\n",
      "conv_pw_5 (Conv2D)           (None, 6, 6, 256)         65536     \n",
      "_________________________________________________________________\n",
      "conv_pw_5_bn (BatchNormaliza (None, 6, 6, 256)         1024      \n",
      "_________________________________________________________________\n",
      "conv_pw_5_relu (ReLU)        (None, 6, 6, 256)         0         \n",
      "_________________________________________________________________\n",
      "conv_pad_6 (ZeroPadding2D)   (None, 7, 7, 256)         0         \n",
      "_________________________________________________________________\n",
      "conv_dw_6 (DepthwiseConv2D)  (None, 3, 3, 256)         2304      \n",
      "_________________________________________________________________\n",
      "conv_dw_6_bn (BatchNormaliza (None, 3, 3, 256)         1024      \n",
      "_________________________________________________________________\n",
      "conv_dw_6_relu (ReLU)        (None, 3, 3, 256)         0         \n",
      "_________________________________________________________________\n",
      "conv_pw_6 (Conv2D)           (None, 3, 3, 512)         131072    \n",
      "_________________________________________________________________\n",
      "conv_pw_6_bn (BatchNormaliza (None, 3, 3, 512)         2048      \n",
      "_________________________________________________________________\n",
      "conv_pw_6_relu (ReLU)        (None, 3, 3, 512)         0         \n",
      "_________________________________________________________________\n",
      "conv_dw_7 (DepthwiseConv2D)  (None, 3, 3, 512)         4608      \n",
      "_________________________________________________________________\n",
      "conv_dw_7_bn (BatchNormaliza (None, 3, 3, 512)         2048      \n",
      "_________________________________________________________________\n",
      "conv_dw_7_relu (ReLU)        (None, 3, 3, 512)         0         \n",
      "_________________________________________________________________\n",
      "conv_pw_7 (Conv2D)           (None, 3, 3, 512)         262144    \n",
      "_________________________________________________________________\n",
      "conv_pw_7_bn (BatchNormaliza (None, 3, 3, 512)         2048      \n",
      "_________________________________________________________________\n",
      "conv_pw_7_relu (ReLU)        (None, 3, 3, 512)         0         \n",
      "_________________________________________________________________\n",
      "conv_dw_8 (DepthwiseConv2D)  (None, 3, 3, 512)         4608      \n",
      "_________________________________________________________________\n",
      "conv_dw_8_bn (BatchNormaliza (None, 3, 3, 512)         2048      \n",
      "_________________________________________________________________\n",
      "conv_dw_8_relu (ReLU)        (None, 3, 3, 512)         0         \n",
      "_________________________________________________________________\n",
      "conv_pw_8 (Conv2D)           (None, 3, 3, 512)         262144    \n",
      "_________________________________________________________________\n",
      "conv_pw_8_bn (BatchNormaliza (None, 3, 3, 512)         2048      \n",
      "_________________________________________________________________\n",
      "conv_pw_8_relu (ReLU)        (None, 3, 3, 512)         0         \n",
      "_________________________________________________________________\n",
      "conv_dw_9 (DepthwiseConv2D)  (None, 3, 3, 512)         4608      \n",
      "_________________________________________________________________\n",
      "conv_dw_9_bn (BatchNormaliza (None, 3, 3, 512)         2048      \n",
      "_________________________________________________________________\n",
      "conv_dw_9_relu (ReLU)        (None, 3, 3, 512)         0         \n",
      "_________________________________________________________________\n",
      "conv_pw_9 (Conv2D)           (None, 3, 3, 512)         262144    \n",
      "_________________________________________________________________\n",
      "conv_pw_9_bn (BatchNormaliza (None, 3, 3, 512)         2048      \n",
      "_________________________________________________________________\n",
      "conv_pw_9_relu (ReLU)        (None, 3, 3, 512)         0         \n",
      "_________________________________________________________________\n",
      "conv_dw_10 (DepthwiseConv2D) (None, 3, 3, 512)         4608      \n",
      "_________________________________________________________________\n",
      "conv_dw_10_bn (BatchNormaliz (None, 3, 3, 512)         2048      \n",
      "_________________________________________________________________\n",
      "conv_dw_10_relu (ReLU)       (None, 3, 3, 512)         0         \n",
      "_________________________________________________________________\n",
      "conv_pw_10 (Conv2D)          (None, 3, 3, 512)         262144    \n",
      "_________________________________________________________________\n",
      "conv_pw_10_bn (BatchNormaliz (None, 3, 3, 512)         2048      \n",
      "_________________________________________________________________\n",
      "conv_pw_10_relu (ReLU)       (None, 3, 3, 512)         0         \n",
      "_________________________________________________________________\n",
      "conv_dw_11 (DepthwiseConv2D) (None, 3, 3, 512)         4608      \n",
      "_________________________________________________________________\n",
      "conv_dw_11_bn (BatchNormaliz (None, 3, 3, 512)         2048      \n",
      "_________________________________________________________________\n",
      "conv_dw_11_relu (ReLU)       (None, 3, 3, 512)         0         \n",
      "_________________________________________________________________\n",
      "conv_pw_11 (Conv2D)          (None, 3, 3, 512)         262144    \n",
      "_________________________________________________________________\n",
      "conv_pw_11_bn (BatchNormaliz (None, 3, 3, 512)         2048      \n",
      "_________________________________________________________________\n",
      "conv_pw_11_relu (ReLU)       (None, 3, 3, 512)         0         \n",
      "_________________________________________________________________\n",
      "conv_pad_12 (ZeroPadding2D)  (None, 4, 4, 512)         0         \n",
      "_________________________________________________________________\n",
      "conv_dw_12 (DepthwiseConv2D) (None, 1, 1, 512)         4608      \n",
      "_________________________________________________________________\n",
      "conv_dw_12_bn (BatchNormaliz (None, 1, 1, 512)         2048      \n",
      "_________________________________________________________________\n",
      "conv_dw_12_relu (ReLU)       (None, 1, 1, 512)         0         \n",
      "_________________________________________________________________\n",
      "conv_pw_12 (Conv2D)          (None, 1, 1, 1024)        524288    \n",
      "_________________________________________________________________\n",
      "conv_pw_12_bn (BatchNormaliz (None, 1, 1, 1024)        4096      \n",
      "_________________________________________________________________\n",
      "conv_pw_12_relu (ReLU)       (None, 1, 1, 1024)        0         \n",
      "_________________________________________________________________\n",
      "conv_dw_13 (DepthwiseConv2D) (None, 1, 1, 1024)        9216      \n",
      "_________________________________________________________________\n",
      "conv_dw_13_bn (BatchNormaliz (None, 1, 1, 1024)        4096      \n",
      "_________________________________________________________________\n",
      "conv_dw_13_relu (ReLU)       (None, 1, 1, 1024)        0         \n",
      "_________________________________________________________________\n",
      "conv_pw_13 (Conv2D)          (None, 1, 1, 1024)        1048576   \n",
      "_________________________________________________________________\n",
      "conv_pw_13_bn (BatchNormaliz (None, 1, 1, 1024)        4096      \n",
      "_________________________________________________________________\n",
      "conv_pw_13_relu (ReLU)       (None, 1, 1, 1024)        0         \n",
      "=================================================================\n",
      "Total params: 3,228,864\n",
      "Trainable params: 3,206,976\n",
      "Non-trainable params: 21,888\n",
      "_________________________________________________________________\n"
     ]
    }
   ],
   "source": [
    "base_model = tf.keras.applications.MobileNet(input_shape=img_shape, include_top=False, weights='imagenet')\n",
    "base_model.summary()"
   ]
  },
  {
   "cell_type": "markdown",
   "id": "1d2dbb97-5326-4ab1-8c6f-c190ec1ea891",
   "metadata": {},
   "source": [
    "# Freezing Layers\n"
   ]
  },
  {
   "cell_type": "code",
   "execution_count": 11,
   "id": "9e71ad46",
   "metadata": {
    "execution": {
     "iopub.execute_input": "2022-08-26T09:02:04.469264Z",
     "iopub.status.busy": "2022-08-26T09:02:04.468978Z",
     "iopub.status.idle": "2022-08-26T09:02:04.476192Z",
     "shell.execute_reply": "2022-08-26T09:02:04.475260Z"
    },
    "papermill": {
     "duration": 0.018886,
     "end_time": "2022-08-26T09:02:04.478301",
     "exception": false,
     "start_time": "2022-08-26T09:02:04.459415",
     "status": "completed"
    },
    "tags": []
   },
   "outputs": [
    {
     "name": "stdout",
     "output_type": "stream",
     "text": [
      "done\n"
     ]
    }
   ],
   "source": [
    "for layer in base_model.layers[:-9]:\n",
    "    layer.trainable=False\n",
    "\n",
    "print('done')"
   ]
  },
  {
   "cell_type": "code",
   "execution_count": 12,
   "id": "8ade9fe1",
   "metadata": {
    "execution": {
     "iopub.execute_input": "2022-08-26T09:02:04.497958Z",
     "iopub.status.busy": "2022-08-26T09:02:04.497069Z",
     "iopub.status.idle": "2022-08-26T09:02:04.504014Z",
     "shell.execute_reply": "2022-08-26T09:02:04.502964Z"
    },
    "papermill": {
     "duration": 0.019533,
     "end_time": "2022-08-26T09:02:04.506584",
     "exception": false,
     "start_time": "2022-08-26T09:02:04.487051",
     "status": "completed"
    },
    "tags": []
   },
   "outputs": [
    {
     "name": "stdout",
     "output_type": "stream",
     "text": [
      "Model trainable 86\n"
     ]
    }
   ],
   "source": [
    "print(\"Model trainable\",len(base_model.layers))"
   ]
  },
  {
   "cell_type": "code",
   "execution_count": 13,
   "id": "26e75c93",
   "metadata": {
    "execution": {
     "iopub.execute_input": "2022-08-26T09:02:04.526420Z",
     "iopub.status.busy": "2022-08-26T09:02:04.524933Z",
     "iopub.status.idle": "2022-08-26T09:02:04.531424Z",
     "shell.execute_reply": "2022-08-26T09:02:04.530395Z"
    },
    "papermill": {
     "duration": 0.0187,
     "end_time": "2022-08-26T09:02:04.534001",
     "exception": false,
     "start_time": "2022-08-26T09:02:04.515301",
     "status": "completed"
    },
    "tags": []
   },
   "outputs": [
    {
     "name": "stdout",
     "output_type": "stream",
     "text": [
      "Model trainable 9\n"
     ]
    }
   ],
   "source": [
    "print(\"Model trainable\",len(base_model.trainable_variables))"
   ]
  },
  {
   "cell_type": "markdown",
   "id": "33c4905a-51a9-473c-8437-60b258511262",
   "metadata": {},
   "source": [
    "Model trainable"
   ]
  },
  {
   "cell_type": "code",
   "execution_count": 14,
   "id": "1e576e1d",
   "metadata": {
    "execution": {
     "iopub.execute_input": "2022-08-26T09:02:04.552658Z",
     "iopub.status.busy": "2022-08-26T09:02:04.552405Z",
     "iopub.status.idle": "2022-08-26T09:02:04.557178Z",
     "shell.execute_reply": "2022-08-26T09:02:04.556280Z"
    },
    "papermill": {
     "duration": 0.016775,
     "end_time": "2022-08-26T09:02:04.559674",
     "exception": false,
     "start_time": "2022-08-26T09:02:04.542899",
     "status": "completed"
    },
    "tags": []
   },
   "outputs": [
    {
     "name": "stdout",
     "output_type": "stream",
     "text": [
      "Model trainable 9\n"
     ]
    }
   ],
   "source": [
    "print(\"Model trainable\",len(base_model.trainable_variables))"
   ]
  },
  {
   "cell_type": "markdown",
   "id": "7a3ebb90-03a9-4c4f-a7bd-e691b1188314",
   "metadata": {},
   "source": [
    "# Build transfer learning Model"
   ]
  },
  {
   "cell_type": "code",
   "execution_count": 15,
   "id": "f7147625",
   "metadata": {
    "execution": {
     "iopub.execute_input": "2022-08-26T09:02:04.579658Z",
     "iopub.status.busy": "2022-08-26T09:02:04.578923Z",
     "iopub.status.idle": "2022-08-26T09:02:04.827217Z",
     "shell.execute_reply": "2022-08-26T09:02:04.825530Z"
    },
    "papermill": {
     "duration": 0.26161,
     "end_time": "2022-08-26T09:02:04.830964",
     "exception": false,
     "start_time": "2022-08-26T09:02:04.569354",
     "status": "completed"
    },
    "tags": []
   },
   "outputs": [
    {
     "name": "stdout",
     "output_type": "stream",
     "text": [
      "Model: \"sequential\"\n",
      "_________________________________________________________________\n",
      "Layer (type)                 Output Shape              Param #   \n",
      "=================================================================\n",
      "mobilenet_1.00_224 (Function (None, 1, 1, 1024)        3228864   \n",
      "_________________________________________________________________\n",
      "global_average_pooling2d (Gl (None, 1024)              0         \n",
      "_________________________________________________________________\n",
      "flatten (Flatten)            (None, 1024)              0         \n",
      "_________________________________________________________________\n",
      "dense (Dense)                (None, 256)               262400    \n",
      "_________________________________________________________________\n",
      "batch_normalization (BatchNo (None, 256)               1024      \n",
      "_________________________________________________________________\n",
      "dropout (Dropout)            (None, 256)               0         \n",
      "_________________________________________________________________\n",
      "dense_1 (Dense)              (None, 128)               32896     \n",
      "_________________________________________________________________\n",
      "batch_normalization_1 (Batch (None, 128)               512       \n",
      "_________________________________________________________________\n",
      "dropout_1 (Dropout)          (None, 128)               0         \n",
      "_________________________________________________________________\n",
      "dense_2 (Dense)              (None, 7)                 903       \n",
      "=================================================================\n",
      "Total params: 3,526,599\n",
      "Trainable params: 1,885,191\n",
      "Non-trainable params: 1,641,408\n",
      "_________________________________________________________________\n"
     ]
    }
   ],
   "source": [
    "model=Sequential()\n",
    "model.add(base_model)\n",
    "model.add(GlobalAveragePooling2D())\n",
    "\n",
    "model.add(Flatten())\n",
    "model.add(Dense(256, activation='relu',kernel_regularizer=regularizers.l2(0.001),bias_regularizer=regularizers.l2(0.001)))\n",
    "model.add(BatchNormalization())\n",
    "model.add(Dropout(0.3))\n",
    "\n",
    "model.add(Dense(128, activation='relu',kernel_regularizer=regularizers.l2(0.001),bias_regularizer=regularizers.l2(0.001)))\n",
    "model.add(BatchNormalization())\n",
    "model.add(Dropout(0.3))\n",
    "\n",
    "model.add(Dense(7, activation=\"softmax\"))\n",
    "\n",
    "model.summary()"
   ]
  },
  {
   "cell_type": "markdown",
   "id": "33d9101a-7087-4aab-b7fd-283024bda898",
   "metadata": {},
   "source": [
    "# Compile model"
   ]
  },
  {
   "cell_type": "code",
   "execution_count": 16,
   "id": "812d9ebd",
   "metadata": {
    "execution": {
     "iopub.execute_input": "2022-08-26T09:02:04.874904Z",
     "iopub.status.busy": "2022-08-26T09:02:04.874458Z",
     "iopub.status.idle": "2022-08-26T09:02:04.920081Z",
     "shell.execute_reply": "2022-08-26T09:02:04.918517Z"
    },
    "papermill": {
     "duration": 0.070507,
     "end_time": "2022-08-26T09:02:04.922790",
     "exception": false,
     "start_time": "2022-08-26T09:02:04.852283",
     "status": "completed"
    },
    "tags": []
   },
   "outputs": [
    {
     "name": "stdout",
     "output_type": "stream",
     "text": [
      "done\n"
     ]
    }
   ],
   "source": [
    "def f1_score(y_true, y_pred): #taken from old keras source code\n",
    "    true_positives = K.sum(K.round(K.clip(y_true * y_pred, 0, 1)))\n",
    "    possible_positives = K.sum(K.round(K.clip(y_true, 0, 1)))\n",
    "    predicted_positives = K.sum(K.round(K.clip(y_pred, 0, 1)))\n",
    "    precision = true_positives / (predicted_positives + K.epsilon())\n",
    "    recall = true_positives / (possible_positives + K.epsilon())\n",
    "    f1_val = 2*(precision*recall)/(precision+recall+K.epsilon())\n",
    "    return f1_val\n",
    "\n",
    "Metrics = [\n",
    "      tf.keras.metrics.BinaryAccuracy(name='accuracy'),\n",
    "      tf.keras.metrics.Precision(name='precision'),\n",
    "      tf.keras.metrics.Recall(name='recall'),  \n",
    "      tf.keras.metrics.AUC(name='auc'),\n",
    "      f1_score,\n",
    "]\n",
    "\n",
    "adam = tf.keras.optimizers.Adam(learning_rate=0.0001, beta_1=0.9, beta_2=0.999, epsilon=1e-08, decay=0.0)\n",
    "\n",
    "model.compile(optimizer=adam, loss='categorical_crossentropy',metrics=Metrics)\n",
    "print('done')"
   ]
  },
  {
   "cell_type": "markdown",
   "id": "6472eb67-aebe-4161-8ca6-689383b415cf",
   "metadata": {},
   "source": [
    "# Run Model"
   ]
  },
  {
   "cell_type": "code",
   "execution_count": 17,
   "id": "b9a38377",
   "metadata": {
    "execution": {
     "iopub.execute_input": "2022-08-26T09:02:04.942735Z",
     "iopub.status.busy": "2022-08-26T09:02:04.942471Z",
     "iopub.status.idle": "2022-08-26T11:17:05.994406Z",
     "shell.execute_reply": "2022-08-26T11:17:05.993427Z"
    },
    "papermill": {
     "duration": 8101.064391,
     "end_time": "2022-08-26T11:17:05.996974",
     "exception": false,
     "start_time": "2022-08-26T09:02:04.932583",
     "status": "completed"
    },
    "tags": []
   },
   "outputs": [
    {
     "name": "stderr",
     "output_type": "stream",
     "text": [
      "2022-08-26 09:02:05.152814: I tensorflow/compiler/mlir/mlir_graph_optimization_pass.cc:185] None of the MLIR Optimization Passes are enabled (registered 2)\n"
     ]
    },
    {
     "name": "stdout",
     "output_type": "stream",
     "text": [
      "Epoch 1/125\n"
     ]
    },
    {
     "name": "stderr",
     "output_type": "stream",
     "text": [
      "2022-08-26 09:02:09.182889: I tensorflow/stream_executor/cuda/cuda_dnn.cc:369] Loaded cuDNN version 8005\n"
     ]
    },
    {
     "name": "stdout",
     "output_type": "stream",
     "text": [
      "449/449 [==============================] - 207s 441ms/step - loss: 4.8371 - accuracy: 0.8259 - precision: 0.2413 - recall: 0.1019 - auc: 0.5800 - f1_score: 0.1432 - val_loss: 2.4014 - val_accuracy: 0.8550 - val_precision: 0.4772 - val_recall: 0.1587 - val_auc: 0.7060 - val_f1_score: 0.2354\n",
      "Epoch 2/125\n",
      "449/449 [==============================] - 57s 127ms/step - loss: 4.2766 - accuracy: 0.8396 - precision: 0.3329 - recall: 0.1225 - auc: 0.6344 - f1_score: 0.1785 - val_loss: 2.3244 - val_accuracy: 0.8603 - val_precision: 0.5303 - val_recall: 0.1941 - val_auc: 0.7318 - val_f1_score: 0.2818\n",
      "Epoch 3/125\n",
      "449/449 [==============================] - 56s 125ms/step - loss: 4.0465 - accuracy: 0.8449 - precision: 0.3666 - recall: 0.1179 - auc: 0.6557 - f1_score: 0.1775 - val_loss: 2.2724 - val_accuracy: 0.8612 - val_precision: 0.5434 - val_recall: 0.1796 - val_auc: 0.7394 - val_f1_score: 0.2669\n",
      "Epoch 4/125\n",
      "449/449 [==============================] - 57s 126ms/step - loss: 3.8770 - accuracy: 0.8485 - precision: 0.4015 - recall: 0.1227 - auc: 0.6718 - f1_score: 0.1871 - val_loss: 2.2327 - val_accuracy: 0.8631 - val_precision: 0.5602 - val_recall: 0.1924 - val_auc: 0.7541 - val_f1_score: 0.2862\n",
      "Epoch 5/125\n",
      "449/449 [==============================] - 56s 125ms/step - loss: 3.7708 - accuracy: 0.8516 - precision: 0.4337 - recall: 0.1271 - auc: 0.6865 - f1_score: 0.1957 - val_loss: 2.1809 - val_accuracy: 0.8650 - val_precision: 0.5895 - val_recall: 0.1817 - val_auc: 0.7625 - val_f1_score: 0.2768\n",
      "Epoch 6/125\n",
      "449/449 [==============================] - 57s 127ms/step - loss: 3.6620 - accuracy: 0.8536 - precision: 0.4571 - recall: 0.1312 - auc: 0.7020 - f1_score: 0.2029 - val_loss: 2.1572 - val_accuracy: 0.8666 - val_precision: 0.5978 - val_recall: 0.2023 - val_auc: 0.7710 - val_f1_score: 0.2993\n",
      "Epoch 7/125\n",
      "449/449 [==============================] - 57s 128ms/step - loss: 3.5783 - accuracy: 0.8554 - precision: 0.4790 - recall: 0.1361 - auc: 0.7127 - f1_score: 0.2109 - val_loss: 2.1092 - val_accuracy: 0.8674 - val_precision: 0.6092 - val_recall: 0.2009 - val_auc: 0.7819 - val_f1_score: 0.3022\n",
      "Epoch 8/125\n",
      "449/449 [==============================] - 59s 132ms/step - loss: 3.5039 - accuracy: 0.8571 - precision: 0.4998 - recall: 0.1442 - auc: 0.7233 - f1_score: 0.2230 - val_loss: 2.0999 - val_accuracy: 0.8674 - val_precision: 0.6046 - val_recall: 0.2077 - val_auc: 0.7843 - val_f1_score: 0.3075\n",
      "Epoch 9/125\n",
      "449/449 [==============================] - 56s 125ms/step - loss: 3.4469 - accuracy: 0.8583 - precision: 0.5144 - recall: 0.1502 - auc: 0.7327 - f1_score: 0.2315 - val_loss: 2.0590 - val_accuracy: 0.8710 - val_precision: 0.6559 - val_recall: 0.2040 - val_auc: 0.7933 - val_f1_score: 0.3107\n",
      "Epoch 10/125\n",
      "449/449 [==============================] - 57s 126ms/step - loss: 3.4024 - accuracy: 0.8592 - precision: 0.5254 - recall: 0.1465 - auc: 0.7366 - f1_score: 0.2279 - val_loss: 2.0444 - val_accuracy: 0.8689 - val_precision: 0.6252 - val_recall: 0.2052 - val_auc: 0.7968 - val_f1_score: 0.3083\n",
      "Epoch 11/125\n",
      "449/449 [==============================] - 57s 126ms/step - loss: 3.3413 - accuracy: 0.8605 - precision: 0.5415 - recall: 0.1548 - auc: 0.7471 - f1_score: 0.2398 - val_loss: 2.0721 - val_accuracy: 0.8673 - val_precision: 0.6103 - val_recall: 0.1973 - val_auc: 0.7877 - val_f1_score: 0.2991\n",
      "Epoch 12/125\n",
      "449/449 [==============================] - 57s 126ms/step - loss: 3.2770 - accuracy: 0.8626 - precision: 0.5668 - recall: 0.1630 - auc: 0.7571 - f1_score: 0.2520 - val_loss: 2.0609 - val_accuracy: 0.8664 - val_precision: 0.6053 - val_recall: 0.1854 - val_auc: 0.7892 - val_f1_score: 0.2818\n",
      "Epoch 13/125\n",
      "449/449 [==============================] - 58s 129ms/step - loss: 3.2494 - accuracy: 0.8621 - precision: 0.5590 - recall: 0.1653 - auc: 0.7592 - f1_score: 0.2544 - val_loss: 2.0220 - val_accuracy: 0.8698 - val_precision: 0.6359 - val_recall: 0.2066 - val_auc: 0.7984 - val_f1_score: 0.3083\n",
      "Epoch 14/125\n",
      "449/449 [==============================] - 58s 128ms/step - loss: 3.1971 - accuracy: 0.8637 - precision: 0.5762 - recall: 0.1723 - auc: 0.7694 - f1_score: 0.2642 - val_loss: 2.0056 - val_accuracy: 0.8691 - val_precision: 0.6365 - val_recall: 0.1952 - val_auc: 0.8014 - val_f1_score: 0.2971\n",
      "Epoch 15/125\n",
      "449/449 [==============================] - 56s 125ms/step - loss: 3.1713 - accuracy: 0.8647 - precision: 0.5891 - recall: 0.1745 - auc: 0.7716 - f1_score: 0.2685 - val_loss: 1.9927 - val_accuracy: 0.8699 - val_precision: 0.6401 - val_recall: 0.2047 - val_auc: 0.8029 - val_f1_score: 0.3070\n",
      "Epoch 16/125\n",
      "449/449 [==============================] - 58s 129ms/step - loss: 3.1281 - accuracy: 0.8653 - precision: 0.5967 - recall: 0.1752 - auc: 0.7752 - f1_score: 0.2698 - val_loss: 1.9575 - val_accuracy: 0.8727 - val_precision: 0.6681 - val_recall: 0.2168 - val_auc: 0.8106 - val_f1_score: 0.3231\n",
      "Epoch 17/125\n",
      "449/449 [==============================] - 66s 147ms/step - loss: 3.0864 - accuracy: 0.8665 - precision: 0.6091 - recall: 0.1819 - auc: 0.7830 - f1_score: 0.2792 - val_loss: 1.9214 - val_accuracy: 0.8743 - val_precision: 0.6742 - val_recall: 0.2329 - val_auc: 0.8187 - val_f1_score: 0.3449\n",
      "Epoch 18/125\n",
      "449/449 [==============================] - 57s 126ms/step - loss: 3.0306 - accuracy: 0.8670 - precision: 0.6121 - recall: 0.1882 - auc: 0.7882 - f1_score: 0.2868 - val_loss: 1.9020 - val_accuracy: 0.8748 - val_precision: 0.7048 - val_recall: 0.2129 - val_auc: 0.8218 - val_f1_score: 0.3252\n",
      "Epoch 19/125\n",
      "449/449 [==============================] - 57s 127ms/step - loss: 3.0043 - accuracy: 0.8679 - precision: 0.6210 - recall: 0.1936 - auc: 0.7930 - f1_score: 0.2940 - val_loss: 1.9098 - val_accuracy: 0.8733 - val_precision: 0.6764 - val_recall: 0.2164 - val_auc: 0.8177 - val_f1_score: 0.3249\n",
      "Epoch 20/125\n",
      "449/449 [==============================] - 57s 128ms/step - loss: 2.9786 - accuracy: 0.8679 - precision: 0.6209 - recall: 0.1938 - auc: 0.7940 - f1_score: 0.2946 - val_loss: 1.9083 - val_accuracy: 0.8718 - val_precision: 0.6518 - val_recall: 0.2201 - val_auc: 0.8169 - val_f1_score: 0.3275\n",
      "Epoch 21/125\n",
      "449/449 [==============================] - 58s 128ms/step - loss: 2.9440 - accuracy: 0.8683 - precision: 0.6246 - recall: 0.1964 - auc: 0.7991 - f1_score: 0.2976 - val_loss: 1.9842 - val_accuracy: 0.8668 - val_precision: 0.5966 - val_recall: 0.2095 - val_auc: 0.7962 - val_f1_score: 0.3079\n",
      "Epoch 22/125\n",
      "449/449 [==============================] - 57s 127ms/step - loss: 2.9203 - accuracy: 0.8693 - precision: 0.6319 - recall: 0.2031 - auc: 0.8039 - f1_score: 0.3060 - val_loss: 1.8803 - val_accuracy: 0.8729 - val_precision: 0.6744 - val_recall: 0.2133 - val_auc: 0.8201 - val_f1_score: 0.3237\n",
      "Epoch 23/125\n",
      "449/449 [==============================] - 56s 126ms/step - loss: 2.8993 - accuracy: 0.8696 - precision: 0.6368 - recall: 0.2025 - auc: 0.8034 - f1_score: 0.3062 - val_loss: 1.8961 - val_accuracy: 0.8721 - val_precision: 0.6592 - val_recall: 0.2166 - val_auc: 0.8132 - val_f1_score: 0.3245\n",
      "Epoch 24/125\n",
      "449/449 [==============================] - 56s 126ms/step - loss: 2.8716 - accuracy: 0.8702 - precision: 0.6394 - recall: 0.2105 - auc: 0.8075 - f1_score: 0.3156 - val_loss: 1.9122 - val_accuracy: 0.8696 - val_precision: 0.6305 - val_recall: 0.2113 - val_auc: 0.8086 - val_f1_score: 0.3142\n",
      "Epoch 25/125\n",
      "449/449 [==============================] - 57s 126ms/step - loss: 2.8684 - accuracy: 0.8699 - precision: 0.6341 - recall: 0.2113 - auc: 0.8071 - f1_score: 0.3157 - val_loss: 1.8735 - val_accuracy: 0.8726 - val_precision: 0.6626 - val_recall: 0.2205 - val_auc: 0.8156 - val_f1_score: 0.3300\n",
      "Epoch 26/125\n",
      "449/449 [==============================] - 57s 128ms/step - loss: 2.8111 - accuracy: 0.8712 - precision: 0.6481 - recall: 0.2152 - auc: 0.8135 - f1_score: 0.3218 - val_loss: 1.8339 - val_accuracy: 0.8735 - val_precision: 0.6525 - val_recall: 0.2453 - val_auc: 0.8251 - val_f1_score: 0.3565\n",
      "Epoch 27/125\n",
      "449/449 [==============================] - 57s 126ms/step - loss: 2.7902 - accuracy: 0.8709 - precision: 0.6402 - recall: 0.2200 - auc: 0.8148 - f1_score: 0.3261 - val_loss: 1.8048 - val_accuracy: 0.8754 - val_precision: 0.6709 - val_recall: 0.2505 - val_auc: 0.8302 - val_f1_score: 0.3630\n",
      "Epoch 28/125\n",
      "449/449 [==============================] - 61s 136ms/step - loss: 2.7572 - accuracy: 0.8721 - precision: 0.6519 - recall: 0.2254 - auc: 0.8189 - f1_score: 0.3338 - val_loss: 1.8292 - val_accuracy: 0.8726 - val_precision: 0.6414 - val_recall: 0.2462 - val_auc: 0.8223 - val_f1_score: 0.3539\n",
      "Epoch 29/125\n",
      "449/449 [==============================] - 58s 128ms/step - loss: 2.7516 - accuracy: 0.8715 - precision: 0.6450 - recall: 0.2241 - auc: 0.8187 - f1_score: 0.3317 - val_loss: 1.8140 - val_accuracy: 0.8718 - val_precision: 0.6351 - val_recall: 0.2407 - val_auc: 0.8257 - val_f1_score: 0.3501\n",
      "Epoch 30/125\n",
      "449/449 [==============================] - 59s 132ms/step - loss: 2.6909 - accuracy: 0.8728 - precision: 0.6535 - recall: 0.2332 - auc: 0.8233 - f1_score: 0.3426 - val_loss: 1.7522 - val_accuracy: 0.8771 - val_precision: 0.6961 - val_recall: 0.2480 - val_auc: 0.8377 - val_f1_score: 0.3633\n",
      "Epoch 31/125\n",
      "449/449 [==============================] - 58s 129ms/step - loss: 2.6818 - accuracy: 0.8740 - precision: 0.6642 - recall: 0.2386 - auc: 0.8265 - f1_score: 0.3500 - val_loss: 1.7628 - val_accuracy: 0.8764 - val_precision: 0.6721 - val_recall: 0.2633 - val_auc: 0.8332 - val_f1_score: 0.3775\n",
      "Epoch 32/125\n",
      "449/449 [==============================] - 58s 129ms/step - loss: 2.6498 - accuracy: 0.8745 - precision: 0.6660 - recall: 0.2437 - auc: 0.8287 - f1_score: 0.3559 - val_loss: 1.7956 - val_accuracy: 0.8738 - val_precision: 0.6458 - val_recall: 0.2583 - val_auc: 0.8256 - val_f1_score: 0.3693\n",
      "Epoch 33/125\n",
      "449/449 [==============================] - 66s 147ms/step - loss: 2.6127 - accuracy: 0.8754 - precision: 0.6694 - recall: 0.2522 - auc: 0.8322 - f1_score: 0.3655 - val_loss: 1.8010 - val_accuracy: 0.8723 - val_precision: 0.6273 - val_recall: 0.2608 - val_auc: 0.8229 - val_f1_score: 0.3672\n",
      "Epoch 34/125\n",
      "449/449 [==============================] - 59s 132ms/step - loss: 2.6085 - accuracy: 0.8753 - precision: 0.6702 - recall: 0.2501 - auc: 0.8330 - f1_score: 0.3631 - val_loss: 1.7405 - val_accuracy: 0.8751 - val_precision: 0.6587 - val_recall: 0.2605 - val_auc: 0.8344 - val_f1_score: 0.3709\n",
      "Epoch 35/125\n",
      "449/449 [==============================] - 58s 129ms/step - loss: 2.5947 - accuracy: 0.8754 - precision: 0.6683 - recall: 0.2540 - auc: 0.8342 - f1_score: 0.3669 - val_loss: 1.7252 - val_accuracy: 0.8763 - val_precision: 0.6823 - val_recall: 0.2508 - val_auc: 0.8361 - val_f1_score: 0.3657\n",
      "Epoch 36/125\n",
      "449/449 [==============================] - 58s 129ms/step - loss: 2.5639 - accuracy: 0.8762 - precision: 0.6740 - recall: 0.2588 - auc: 0.8374 - f1_score: 0.3728 - val_loss: 1.7146 - val_accuracy: 0.8755 - val_precision: 0.6627 - val_recall: 0.2611 - val_auc: 0.8372 - val_f1_score: 0.3717\n",
      "Epoch 37/125\n",
      "449/449 [==============================] - 58s 128ms/step - loss: 2.5789 - accuracy: 0.8755 - precision: 0.6677 - recall: 0.2562 - auc: 0.8356 - f1_score: 0.3693 - val_loss: 1.7540 - val_accuracy: 0.8720 - val_precision: 0.6321 - val_recall: 0.2494 - val_auc: 0.8276 - val_f1_score: 0.3550\n",
      "Epoch 38/125\n",
      "449/449 [==============================] - 58s 129ms/step - loss: 2.5427 - accuracy: 0.8763 - precision: 0.6725 - recall: 0.2609 - auc: 0.8391 - f1_score: 0.3747 - val_loss: 1.7439 - val_accuracy: 0.8738 - val_precision: 0.6455 - val_recall: 0.2587 - val_auc: 0.8273 - val_f1_score: 0.3670\n",
      "Epoch 39/125\n",
      "449/449 [==============================] - 58s 129ms/step - loss: 2.5035 - accuracy: 0.8780 - precision: 0.6819 - recall: 0.2734 - auc: 0.8423 - f1_score: 0.3892 - val_loss: 1.6826 - val_accuracy: 0.8769 - val_precision: 0.6547 - val_recall: 0.2933 - val_auc: 0.8408 - val_f1_score: 0.4030\n",
      "Epoch 40/125\n",
      "449/449 [==============================] - 58s 128ms/step - loss: 2.5133 - accuracy: 0.8771 - precision: 0.6715 - recall: 0.2729 - auc: 0.8417 - f1_score: 0.3871 - val_loss: 1.6711 - val_accuracy: 0.8775 - val_precision: 0.6675 - val_recall: 0.2839 - val_auc: 0.8418 - val_f1_score: 0.3980\n",
      "Epoch 41/125\n",
      "449/449 [==============================] - 61s 137ms/step - loss: 2.4740 - accuracy: 0.8774 - precision: 0.6743 - recall: 0.2748 - auc: 0.8442 - f1_score: 0.3893 - val_loss: 1.6671 - val_accuracy: 0.8779 - val_precision: 0.6772 - val_recall: 0.2771 - val_auc: 0.8410 - val_f1_score: 0.3912\n",
      "Epoch 42/125\n",
      "449/449 [==============================] - 57s 127ms/step - loss: 2.4685 - accuracy: 0.8776 - precision: 0.6773 - recall: 0.2737 - auc: 0.8448 - f1_score: 0.3887 - val_loss: 1.6653 - val_accuracy: 0.8765 - val_precision: 0.6655 - val_recall: 0.2722 - val_auc: 0.8402 - val_f1_score: 0.3813\n",
      "Epoch 43/125\n",
      "449/449 [==============================] - 58s 129ms/step - loss: 2.4549 - accuracy: 0.8786 - precision: 0.6826 - recall: 0.2808 - auc: 0.8459 - f1_score: 0.3969 - val_loss: 1.6800 - val_accuracy: 0.8764 - val_precision: 0.6576 - val_recall: 0.2814 - val_auc: 0.8362 - val_f1_score: 0.3903\n",
      "Epoch 44/125\n",
      "449/449 [==============================] - 58s 130ms/step - loss: 2.4128 - accuracy: 0.8793 - precision: 0.6879 - recall: 0.2838 - auc: 0.8494 - f1_score: 0.4007 - val_loss: 1.6489 - val_accuracy: 0.8767 - val_precision: 0.6496 - val_recall: 0.2973 - val_auc: 0.8427 - val_f1_score: 0.4056\n",
      "Epoch 45/125\n",
      "449/449 [==============================] - 58s 128ms/step - loss: 2.3993 - accuracy: 0.8791 - precision: 0.6819 - recall: 0.2878 - auc: 0.8513 - f1_score: 0.4036 - val_loss: 1.6285 - val_accuracy: 0.8780 - val_precision: 0.6671 - val_recall: 0.2920 - val_auc: 0.8456 - val_f1_score: 0.4032\n",
      "Epoch 46/125\n",
      "449/449 [==============================] - 57s 128ms/step - loss: 2.3970 - accuracy: 0.8799 - precision: 0.6870 - recall: 0.2929 - auc: 0.8510 - f1_score: 0.4096 - val_loss: 1.6543 - val_accuracy: 0.8759 - val_precision: 0.6447 - val_recall: 0.2920 - val_auc: 0.8384 - val_f1_score: 0.4013\n",
      "Epoch 47/125\n",
      "449/449 [==============================] - 59s 130ms/step - loss: 2.4185 - accuracy: 0.8788 - precision: 0.6786 - recall: 0.2875 - auc: 0.8498 - f1_score: 0.4029 - val_loss: 1.6627 - val_accuracy: 0.8763 - val_precision: 0.6470 - val_recall: 0.2956 - val_auc: 0.8360 - val_f1_score: 0.4044\n",
      "Epoch 48/125\n",
      "449/449 [==============================] - 59s 131ms/step - loss: 2.3814 - accuracy: 0.8794 - precision: 0.6813 - recall: 0.2933 - auc: 0.8518 - f1_score: 0.4088 - val_loss: 1.5978 - val_accuracy: 0.8800 - val_precision: 0.6785 - val_recall: 0.3043 - val_auc: 0.8485 - val_f1_score: 0.4178\n",
      "Epoch 49/125\n",
      "449/449 [==============================] - 59s 131ms/step - loss: 2.3549 - accuracy: 0.8802 - precision: 0.6889 - recall: 0.2949 - auc: 0.8545 - f1_score: 0.4117 - val_loss: 1.6510 - val_accuracy: 0.8747 - val_precision: 0.6373 - val_recall: 0.2855 - val_auc: 0.8363 - val_f1_score: 0.3934\n",
      "Epoch 50/125\n",
      "449/449 [==============================] - 58s 130ms/step - loss: 2.3292 - accuracy: 0.8811 - precision: 0.6919 - recall: 0.3019 - auc: 0.8566 - f1_score: 0.4190 - val_loss: 1.6392 - val_accuracy: 0.8768 - val_precision: 0.6429 - val_recall: 0.3100 - val_auc: 0.8398 - val_f1_score: 0.4156\n",
      "Epoch 51/125\n",
      "449/449 [==============================] - 61s 137ms/step - loss: 2.3048 - accuracy: 0.8812 - precision: 0.6885 - recall: 0.3070 - auc: 0.8576 - f1_score: 0.4233 - val_loss: 1.6262 - val_accuracy: 0.8759 - val_precision: 0.6424 - val_recall: 0.2966 - val_auc: 0.8406 - val_f1_score: 0.4053\n",
      "Epoch 52/125\n",
      "449/449 [==============================] - 60s 133ms/step - loss: 2.2911 - accuracy: 0.8817 - precision: 0.6896 - recall: 0.3124 - auc: 0.8598 - f1_score: 0.4290 - val_loss: 1.5888 - val_accuracy: 0.8779 - val_precision: 0.6532 - val_recall: 0.3097 - val_auc: 0.8476 - val_f1_score: 0.4172\n",
      "Epoch 53/125\n",
      "449/449 [==============================] - 60s 133ms/step - loss: 2.2830 - accuracy: 0.8831 - precision: 0.6983 - recall: 0.3205 - auc: 0.8611 - f1_score: 0.4382 - val_loss: 1.6100 - val_accuracy: 0.8765 - val_precision: 0.6461 - val_recall: 0.3004 - val_auc: 0.8420 - val_f1_score: 0.4068\n",
      "Epoch 54/125\n",
      "449/449 [==============================] - 59s 132ms/step - loss: 2.2937 - accuracy: 0.8826 - precision: 0.6911 - recall: 0.3217 - auc: 0.8618 - f1_score: 0.4381 - val_loss: 1.5921 - val_accuracy: 0.8778 - val_precision: 0.6527 - val_recall: 0.3087 - val_auc: 0.8447 - val_f1_score: 0.4173\n",
      "Epoch 55/125\n",
      "449/449 [==============================] - 60s 133ms/step - loss: 2.2825 - accuracy: 0.8827 - precision: 0.6934 - recall: 0.3208 - auc: 0.8614 - f1_score: 0.4374 - val_loss: 1.5493 - val_accuracy: 0.8799 - val_precision: 0.6622 - val_recall: 0.3245 - val_auc: 0.8539 - val_f1_score: 0.4335\n",
      "Epoch 56/125\n",
      "449/449 [==============================] - 59s 131ms/step - loss: 2.2304 - accuracy: 0.8840 - precision: 0.7025 - recall: 0.3258 - auc: 0.8651 - f1_score: 0.4439 - val_loss: 1.5436 - val_accuracy: 0.8800 - val_precision: 0.6667 - val_recall: 0.3193 - val_auc: 0.8539 - val_f1_score: 0.4314\n",
      "Epoch 57/125\n",
      "449/449 [==============================] - 59s 132ms/step - loss: 2.2267 - accuracy: 0.8843 - precision: 0.6996 - recall: 0.3328 - auc: 0.8666 - f1_score: 0.4498 - val_loss: 1.5651 - val_accuracy: 0.8784 - val_precision: 0.6440 - val_recall: 0.3321 - val_auc: 0.8490 - val_f1_score: 0.4366\n",
      "Epoch 58/125\n",
      "449/449 [==============================] - 61s 136ms/step - loss: 2.2107 - accuracy: 0.8841 - precision: 0.6967 - recall: 0.3336 - auc: 0.8678 - f1_score: 0.4500 - val_loss: 1.5666 - val_accuracy: 0.8795 - val_precision: 0.6432 - val_recall: 0.3519 - val_auc: 0.8497 - val_f1_score: 0.4548\n",
      "Epoch 59/125\n",
      "449/449 [==============================] - 61s 137ms/step - loss: 2.1831 - accuracy: 0.8850 - precision: 0.7012 - recall: 0.3397 - auc: 0.8698 - f1_score: 0.4567 - val_loss: 1.5878 - val_accuracy: 0.8770 - val_precision: 0.6352 - val_recall: 0.3270 - val_auc: 0.8434 - val_f1_score: 0.4325\n",
      "Epoch 60/125\n",
      "449/449 [==============================] - 62s 137ms/step - loss: 2.1881 - accuracy: 0.8845 - precision: 0.6981 - recall: 0.3374 - auc: 0.8692 - f1_score: 0.4537 - val_loss: 1.5876 - val_accuracy: 0.8761 - val_precision: 0.6400 - val_recall: 0.3029 - val_auc: 0.8414 - val_f1_score: 0.4105\n",
      "Epoch 61/125\n",
      "449/449 [==============================] - 60s 134ms/step - loss: 2.1728 - accuracy: 0.8859 - precision: 0.7056 - recall: 0.3456 - auc: 0.8707 - f1_score: 0.4627 - val_loss: 1.5806 - val_accuracy: 0.8763 - val_precision: 0.6352 - val_recall: 0.3158 - val_auc: 0.8423 - val_f1_score: 0.4218\n",
      "Epoch 62/125\n",
      "449/449 [==============================] - 61s 136ms/step - loss: 2.1702 - accuracy: 0.8854 - precision: 0.7029 - recall: 0.3427 - auc: 0.8701 - f1_score: 0.4600 - val_loss: 1.5467 - val_accuracy: 0.8783 - val_precision: 0.6446 - val_recall: 0.3298 - val_auc: 0.8490 - val_f1_score: 0.4361\n",
      "Epoch 63/125\n",
      "449/449 [==============================] - 61s 136ms/step - loss: 2.1446 - accuracy: 0.8863 - precision: 0.7050 - recall: 0.3508 - auc: 0.8729 - f1_score: 0.4673 - val_loss: 1.5728 - val_accuracy: 0.8772 - val_precision: 0.6355 - val_recall: 0.3289 - val_auc: 0.8434 - val_f1_score: 0.4323\n",
      "Epoch 64/125\n",
      "449/449 [==============================] - 63s 141ms/step - loss: 2.1389 - accuracy: 0.8861 - precision: 0.7034 - recall: 0.3504 - auc: 0.8741 - f1_score: 0.4666 - val_loss: 1.5486 - val_accuracy: 0.8791 - val_precision: 0.6475 - val_recall: 0.3366 - val_auc: 0.8481 - val_f1_score: 0.4426\n",
      "Epoch 65/125\n",
      "449/449 [==============================] - 61s 137ms/step - loss: 2.1324 - accuracy: 0.8864 - precision: 0.7017 - recall: 0.3563 - auc: 0.8737 - f1_score: 0.4716 - val_loss: 1.5279 - val_accuracy: 0.8786 - val_precision: 0.6387 - val_recall: 0.3461 - val_auc: 0.8519 - val_f1_score: 0.4506\n",
      "Epoch 66/125\n",
      "449/449 [==============================] - 62s 137ms/step - loss: 2.1240 - accuracy: 0.8874 - precision: 0.7078 - recall: 0.3606 - auc: 0.8752 - f1_score: 0.4770 - val_loss: 1.5238 - val_accuracy: 0.8787 - val_precision: 0.6444 - val_recall: 0.3363 - val_auc: 0.8516 - val_f1_score: 0.4405\n",
      "Epoch 67/125\n",
      "449/449 [==============================] - 61s 136ms/step - loss: 2.1074 - accuracy: 0.8876 - precision: 0.7078 - recall: 0.3635 - auc: 0.8771 - f1_score: 0.4792 - val_loss: 1.5614 - val_accuracy: 0.8762 - val_precision: 0.6180 - val_recall: 0.3495 - val_auc: 0.8451 - val_f1_score: 0.4441\n",
      "Epoch 68/125\n",
      "449/449 [==============================] - 60s 134ms/step - loss: 2.0807 - accuracy: 0.8878 - precision: 0.7055 - recall: 0.3679 - auc: 0.8785 - f1_score: 0.4827 - val_loss: 1.5427 - val_accuracy: 0.8764 - val_precision: 0.6240 - val_recall: 0.3401 - val_auc: 0.8476 - val_f1_score: 0.4388\n",
      "Epoch 69/125\n",
      "449/449 [==============================] - 60s 133ms/step - loss: 2.0431 - accuracy: 0.8892 - precision: 0.7119 - recall: 0.3771 - auc: 0.8825 - f1_score: 0.4921 - val_loss: 1.5462 - val_accuracy: 0.8769 - val_precision: 0.6257 - val_recall: 0.3447 - val_auc: 0.8467 - val_f1_score: 0.4423\n",
      "Epoch 70/125\n",
      "449/449 [==============================] - 61s 135ms/step - loss: 2.0642 - accuracy: 0.8890 - precision: 0.7104 - recall: 0.3759 - auc: 0.8802 - f1_score: 0.4907 - val_loss: 1.5320 - val_accuracy: 0.8789 - val_precision: 0.6411 - val_recall: 0.3465 - val_auc: 0.8484 - val_f1_score: 0.4499\n",
      "Epoch 71/125\n",
      "449/449 [==============================] - 61s 135ms/step - loss: 2.0516 - accuracy: 0.8902 - precision: 0.7178 - recall: 0.3810 - auc: 0.8828 - f1_score: 0.4966 - val_loss: 1.5215 - val_accuracy: 0.8782 - val_precision: 0.6365 - val_recall: 0.3440 - val_auc: 0.8501 - val_f1_score: 0.4461\n",
      "Epoch 72/125\n",
      "449/449 [==============================] - 61s 135ms/step - loss: 2.0684 - accuracy: 0.8884 - precision: 0.7056 - recall: 0.3755 - auc: 0.8803 - f1_score: 0.4890 - val_loss: 1.5061 - val_accuracy: 0.8791 - val_precision: 0.6360 - val_recall: 0.3587 - val_auc: 0.8535 - val_f1_score: 0.4582\n",
      "Epoch 73/125\n",
      "449/449 [==============================] - 61s 136ms/step - loss: 2.0464 - accuracy: 0.8892 - precision: 0.7115 - recall: 0.3770 - auc: 0.8819 - f1_score: 0.4918 - val_loss: 1.4949 - val_accuracy: 0.8794 - val_precision: 0.6347 - val_recall: 0.3663 - val_auc: 0.8553 - val_f1_score: 0.4621\n",
      "Epoch 74/125\n",
      "449/449 [==============================] - 62s 137ms/step - loss: 2.0208 - accuracy: 0.8895 - precision: 0.7097 - recall: 0.3832 - auc: 0.8831 - f1_score: 0.4967 - val_loss: 1.5075 - val_accuracy: 0.8795 - val_precision: 0.6383 - val_recall: 0.3604 - val_auc: 0.8522 - val_f1_score: 0.4580\n",
      "Epoch 75/125\n",
      "449/449 [==============================] - 61s 136ms/step - loss: 2.0085 - accuracy: 0.8907 - precision: 0.7157 - recall: 0.3894 - auc: 0.8865 - f1_score: 0.5034 - val_loss: 1.5176 - val_accuracy: 0.8791 - val_precision: 0.6367 - val_recall: 0.3582 - val_auc: 0.8505 - val_f1_score: 0.4571\n",
      "Epoch 76/125\n",
      "449/449 [==============================] - 62s 138ms/step - loss: 1.9840 - accuracy: 0.8916 - precision: 0.7195 - recall: 0.3958 - auc: 0.8871 - f1_score: 0.5098 - val_loss: 1.4923 - val_accuracy: 0.8791 - val_precision: 0.6373 - val_recall: 0.3573 - val_auc: 0.8540 - val_f1_score: 0.4539\n",
      "Epoch 77/125\n",
      "449/449 [==============================] - 62s 139ms/step - loss: 1.9959 - accuracy: 0.8910 - precision: 0.7152 - recall: 0.3944 - auc: 0.8870 - f1_score: 0.5077 - val_loss: 1.5352 - val_accuracy: 0.8752 - val_precision: 0.6152 - val_recall: 0.3381 - val_auc: 0.8445 - val_f1_score: 0.4342\n",
      "Epoch 78/125\n",
      "449/449 [==============================] - 60s 134ms/step - loss: 1.9979 - accuracy: 0.8917 - precision: 0.7171 - recall: 0.3997 - auc: 0.8871 - f1_score: 0.5123 - val_loss: 1.4826 - val_accuracy: 0.8803 - val_precision: 0.6451 - val_recall: 0.3601 - val_auc: 0.8555 - val_f1_score: 0.4586\n",
      "Epoch 79/125\n",
      "449/449 [==============================] - 61s 136ms/step - loss: 1.9680 - accuracy: 0.8920 - precision: 0.7186 - recall: 0.4010 - auc: 0.8896 - f1_score: 0.5136 - val_loss: 1.5095 - val_accuracy: 0.8777 - val_precision: 0.6248 - val_recall: 0.3601 - val_auc: 0.8503 - val_f1_score: 0.4570\n",
      "Epoch 80/125\n",
      "449/449 [==============================] - 60s 133ms/step - loss: 1.9633 - accuracy: 0.8924 - precision: 0.7175 - recall: 0.4069 - auc: 0.8902 - f1_score: 0.5183 - val_loss: 1.4853 - val_accuracy: 0.8794 - val_precision: 0.6332 - val_recall: 0.3706 - val_auc: 0.8546 - val_f1_score: 0.4647\n",
      "Epoch 81/125\n",
      "449/449 [==============================] - 64s 143ms/step - loss: 1.9359 - accuracy: 0.8930 - precision: 0.7217 - recall: 0.4082 - auc: 0.8913 - f1_score: 0.5206 - val_loss: 1.5096 - val_accuracy: 0.8786 - val_precision: 0.6258 - val_recall: 0.3729 - val_auc: 0.8510 - val_f1_score: 0.4667\n",
      "Epoch 82/125\n",
      "449/449 [==============================] - 65s 144ms/step - loss: 1.9478 - accuracy: 0.8933 - precision: 0.7234 - recall: 0.4100 - auc: 0.8920 - f1_score: 0.5223 - val_loss: 1.4896 - val_accuracy: 0.8794 - val_precision: 0.6296 - val_recall: 0.3780 - val_auc: 0.8549 - val_f1_score: 0.4701\n",
      "Epoch 83/125\n",
      "449/449 [==============================] - 60s 135ms/step - loss: 1.9259 - accuracy: 0.8938 - precision: 0.7220 - recall: 0.4175 - auc: 0.8926 - f1_score: 0.5279 - val_loss: 1.4786 - val_accuracy: 0.8807 - val_precision: 0.6366 - val_recall: 0.3849 - val_auc: 0.8565 - val_f1_score: 0.4772\n",
      "Epoch 84/125\n",
      "449/449 [==============================] - 57s 128ms/step - loss: 1.9199 - accuracy: 0.8944 - precision: 0.7245 - recall: 0.4209 - auc: 0.8943 - f1_score: 0.5316 - val_loss: 1.5138 - val_accuracy: 0.8779 - val_precision: 0.6220 - val_recall: 0.3707 - val_auc: 0.8486 - val_f1_score: 0.4625\n",
      "Epoch 85/125\n",
      "449/449 [==============================] - 58s 129ms/step - loss: 1.8958 - accuracy: 0.8946 - precision: 0.7251 - recall: 0.4220 - auc: 0.8950 - f1_score: 0.5325 - val_loss: 1.4887 - val_accuracy: 0.8797 - val_precision: 0.6289 - val_recall: 0.3844 - val_auc: 0.8540 - val_f1_score: 0.4733\n",
      "Epoch 86/125\n",
      "449/449 [==============================] - 58s 128ms/step - loss: 1.8755 - accuracy: 0.8957 - precision: 0.7265 - recall: 0.4323 - auc: 0.8970 - f1_score: 0.5411 - val_loss: 1.4800 - val_accuracy: 0.8813 - val_precision: 0.6420 - val_recall: 0.3823 - val_auc: 0.8549 - val_f1_score: 0.4783\n",
      "Epoch 87/125\n",
      "449/449 [==============================] - 62s 137ms/step - loss: 1.8955 - accuracy: 0.8945 - precision: 0.7219 - recall: 0.4254 - auc: 0.8966 - f1_score: 0.5345 - val_loss: 1.5263 - val_accuracy: 0.8764 - val_precision: 0.6145 - val_recall: 0.3615 - val_auc: 0.8454 - val_f1_score: 0.4570\n",
      "Epoch 88/125\n",
      "449/449 [==============================] - 59s 131ms/step - loss: 1.8743 - accuracy: 0.8952 - precision: 0.7269 - recall: 0.4270 - auc: 0.8968 - f1_score: 0.5370 - val_loss: 1.4693 - val_accuracy: 0.8813 - val_precision: 0.6396 - val_recall: 0.3872 - val_auc: 0.8571 - val_f1_score: 0.4807\n",
      "Epoch 89/125\n",
      "449/449 [==============================] - 58s 130ms/step - loss: 1.8819 - accuracy: 0.8955 - precision: 0.7268 - recall: 0.4298 - auc: 0.8972 - f1_score: 0.5392 - val_loss: 1.4746 - val_accuracy: 0.8806 - val_precision: 0.6328 - val_recall: 0.3906 - val_auc: 0.8558 - val_f1_score: 0.4825\n",
      "Epoch 90/125\n",
      "449/449 [==============================] - 58s 130ms/step - loss: 1.8616 - accuracy: 0.8959 - precision: 0.7272 - recall: 0.4341 - auc: 0.8989 - f1_score: 0.5423 - val_loss: 1.4943 - val_accuracy: 0.8781 - val_precision: 0.6195 - val_recall: 0.3799 - val_auc: 0.8517 - val_f1_score: 0.4707\n",
      "Epoch 91/125\n",
      "449/449 [==============================] - 58s 130ms/step - loss: 1.8369 - accuracy: 0.8967 - precision: 0.7305 - recall: 0.4386 - auc: 0.9003 - f1_score: 0.5471 - val_loss: 1.4613 - val_accuracy: 0.8807 - val_precision: 0.6319 - val_recall: 0.3944 - val_auc: 0.8585 - val_f1_score: 0.4845\n",
      "Epoch 92/125\n",
      "449/449 [==============================] - 57s 127ms/step - loss: 1.8500 - accuracy: 0.8968 - precision: 0.7275 - recall: 0.4440 - auc: 0.8997 - f1_score: 0.5505 - val_loss: 1.4807 - val_accuracy: 0.8798 - val_precision: 0.6238 - val_recall: 0.3991 - val_auc: 0.8556 - val_f1_score: 0.4845\n",
      "Epoch 93/125\n",
      "449/449 [==============================] - 65s 144ms/step - loss: 1.8301 - accuracy: 0.8979 - precision: 0.7353 - recall: 0.4454 - auc: 0.9019 - f1_score: 0.5538 - val_loss: 1.4753 - val_accuracy: 0.8800 - val_precision: 0.6252 - val_recall: 0.3986 - val_auc: 0.8566 - val_f1_score: 0.4852\n",
      "Epoch 94/125\n",
      "449/449 [==============================] - 66s 147ms/step - loss: 1.8267 - accuracy: 0.8971 - precision: 0.7298 - recall: 0.4438 - auc: 0.9024 - f1_score: 0.5511 - val_loss: 1.5238 - val_accuracy: 0.8756 - val_precision: 0.6040 - val_recall: 0.3755 - val_auc: 0.8466 - val_f1_score: 0.4629\n",
      "Epoch 95/125\n",
      "449/449 [==============================] - 59s 132ms/step - loss: 1.8022 - accuracy: 0.8978 - precision: 0.7328 - recall: 0.4475 - auc: 0.9030 - f1_score: 0.5546 - val_loss: 1.4704 - val_accuracy: 0.8792 - val_precision: 0.6216 - val_recall: 0.3941 - val_auc: 0.8564 - val_f1_score: 0.4823\n",
      "Epoch 96/125\n",
      "449/449 [==============================] - 62s 138ms/step - loss: 1.7956 - accuracy: 0.8983 - precision: 0.7328 - recall: 0.4533 - auc: 0.9043 - f1_score: 0.5589 - val_loss: 1.4830 - val_accuracy: 0.8797 - val_precision: 0.6244 - val_recall: 0.3955 - val_auc: 0.8536 - val_f1_score: 0.4844\n",
      "Epoch 97/125\n",
      "449/449 [==============================] - 58s 128ms/step - loss: 1.8058 - accuracy: 0.8986 - precision: 0.7350 - recall: 0.4534 - auc: 0.9037 - f1_score: 0.5599 - val_loss: 1.5107 - val_accuracy: 0.8779 - val_precision: 0.6125 - val_recall: 0.3959 - val_auc: 0.8503 - val_f1_score: 0.4802\n",
      "Epoch 98/125\n",
      "449/449 [==============================] - 57s 128ms/step - loss: 1.7922 - accuracy: 0.8989 - precision: 0.7349 - recall: 0.4569 - auc: 0.9056 - f1_score: 0.5627 - val_loss: 1.4877 - val_accuracy: 0.8790 - val_precision: 0.6203 - val_recall: 0.3947 - val_auc: 0.8531 - val_f1_score: 0.4819\n",
      "Epoch 99/125\n",
      "449/449 [==============================] - 58s 130ms/step - loss: 1.7664 - accuracy: 0.9000 - precision: 0.7392 - recall: 0.4641 - auc: 0.9070 - f1_score: 0.5693 - val_loss: 1.4868 - val_accuracy: 0.8788 - val_precision: 0.6173 - val_recall: 0.3987 - val_auc: 0.8545 - val_f1_score: 0.4797\n",
      "Epoch 100/125\n",
      "449/449 [==============================] - 57s 127ms/step - loss: 1.7735 - accuracy: 0.9002 - precision: 0.7392 - recall: 0.4661 - auc: 0.9073 - f1_score: 0.5708 - val_loss: 1.4819 - val_accuracy: 0.8788 - val_precision: 0.6189 - val_recall: 0.3950 - val_auc: 0.8542 - val_f1_score: 0.4810\n",
      "Epoch 101/125\n",
      "449/449 [==============================] - 59s 130ms/step - loss: 1.7772 - accuracy: 0.8995 - precision: 0.7374 - recall: 0.4605 - auc: 0.9069 - f1_score: 0.5660 - val_loss: 1.4621 - val_accuracy: 0.8818 - val_precision: 0.6313 - val_recall: 0.4153 - val_auc: 0.8589 - val_f1_score: 0.5006\n",
      "\n",
      "Epoch 00101: ReduceLROnPlateau reducing learning rate to 4.999999873689376e-05.\n",
      "Epoch 102/125\n",
      "449/449 [==============================] - 58s 129ms/step - loss: 1.7341 - accuracy: 0.9021 - precision: 0.7468 - recall: 0.4762 - auc: 0.9111 - f1_score: 0.5807 - val_loss: 1.4677 - val_accuracy: 0.8806 - val_precision: 0.6248 - val_recall: 0.4107 - val_auc: 0.8577 - val_f1_score: 0.4946\n",
      "Epoch 103/125\n",
      "449/449 [==============================] - 58s 130ms/step - loss: 1.6586 - accuracy: 0.9047 - precision: 0.7565 - recall: 0.4911 - auc: 0.9166 - f1_score: 0.5947 - val_loss: 1.4645 - val_accuracy: 0.8803 - val_precision: 0.6233 - val_recall: 0.4106 - val_auc: 0.8583 - val_f1_score: 0.4946\n",
      "Epoch 104/125\n",
      "449/449 [==============================] - 58s 129ms/step - loss: 1.6712 - accuracy: 0.9048 - precision: 0.7513 - recall: 0.4988 - auc: 0.9166 - f1_score: 0.5987 - val_loss: 1.4727 - val_accuracy: 0.8792 - val_precision: 0.6158 - val_recall: 0.4111 - val_auc: 0.8573 - val_f1_score: 0.4932\n",
      "Epoch 105/125\n",
      "449/449 [==============================] - 58s 130ms/step - loss: 1.6567 - accuracy: 0.9040 - precision: 0.7487 - recall: 0.4937 - auc: 0.9171 - f1_score: 0.5940 - val_loss: 1.4710 - val_accuracy: 0.8796 - val_precision: 0.6163 - val_recall: 0.4161 - val_auc: 0.8587 - val_f1_score: 0.4976\n",
      "Epoch 106/125\n",
      "449/449 [==============================] - 58s 128ms/step - loss: 1.6595 - accuracy: 0.9050 - precision: 0.7521 - recall: 0.4998 - auc: 0.9166 - f1_score: 0.5996 - val_loss: 1.4718 - val_accuracy: 0.8797 - val_precision: 0.6163 - val_recall: 0.4181 - val_auc: 0.8578 - val_f1_score: 0.4973\n",
      "Epoch 107/125\n",
      "449/449 [==============================] - 59s 132ms/step - loss: 1.6228 - accuracy: 0.9061 - precision: 0.7545 - recall: 0.5083 - auc: 0.9198 - f1_score: 0.6066 - val_loss: 1.4682 - val_accuracy: 0.8811 - val_precision: 0.6225 - val_recall: 0.4256 - val_auc: 0.8599 - val_f1_score: 0.5069\n",
      "Epoch 108/125\n",
      "449/449 [==============================] - 58s 129ms/step - loss: 1.6345 - accuracy: 0.9071 - precision: 0.7575 - recall: 0.5141 - auc: 0.9200 - f1_score: 0.6116 - val_loss: 1.4699 - val_accuracy: 0.8806 - val_precision: 0.6181 - val_recall: 0.4302 - val_auc: 0.8592 - val_f1_score: 0.5057\n",
      "Epoch 109/125\n",
      "449/449 [==============================] - 60s 134ms/step - loss: 1.6273 - accuracy: 0.9066 - precision: 0.7565 - recall: 0.5104 - auc: 0.9202 - f1_score: 0.6086 - val_loss: 1.4770 - val_accuracy: 0.8804 - val_precision: 0.6182 - val_recall: 0.4255 - val_auc: 0.8576 - val_f1_score: 0.5018\n",
      "Epoch 110/125\n",
      "449/449 [==============================] - 59s 131ms/step - loss: 1.6207 - accuracy: 0.9069 - precision: 0.7565 - recall: 0.5140 - auc: 0.9205 - f1_score: 0.6114 - val_loss: 1.4736 - val_accuracy: 0.8807 - val_precision: 0.6220 - val_recall: 0.4199 - val_auc: 0.8569 - val_f1_score: 0.5009\n",
      "Epoch 111/125\n",
      "449/449 [==============================] - 59s 131ms/step - loss: 1.6114 - accuracy: 0.9071 - precision: 0.7564 - recall: 0.5156 - auc: 0.9219 - f1_score: 0.6122 - val_loss: 1.4683 - val_accuracy: 0.8810 - val_precision: 0.6179 - val_recall: 0.4376 - val_auc: 0.8604 - val_f1_score: 0.5130\n",
      "\n",
      "Epoch 00111: ReduceLROnPlateau reducing learning rate to 2.499999936844688e-05.\n",
      "Epoch 00111: early stopping\n"
     ]
    }
   ],
   "source": [
    "counter = Counter(train_dataset.classes)                          \n",
    "max_val = float(max(counter.values()))       \n",
    "class_weights = {class_id : round(max_val/num_images,2) for class_id, num_images in counter.items()}  \n",
    "\n",
    "lrd = ReduceLROnPlateau(monitor = 'val_loss',patience = 10,verbose = 1,factor = 0.50, min_lr = 1e-10)\n",
    "checkpoint = ModelCheckpoint('model.h5')\n",
    "early_stopping = EarlyStopping(verbose=1, patience=20)\n",
    "\n",
    "history=model.fit(train_dataset,\n",
    "                  validation_data=test_dataset,\n",
    "                  epochs = 125,\n",
    "                  verbose =1,\n",
    "                  callbacks = [lrd,checkpoint,early_stopping], \n",
    "                  class_weight = class_weights)"
   ]
  },
  {
   "cell_type": "markdown",
   "id": "eab69182",
   "metadata": {
    "papermill": {
     "duration": 2.881798,
     "end_time": "2022-08-26T11:17:11.910187",
     "exception": false,
     "start_time": "2022-08-26T11:17:09.028389",
     "status": "completed"
    },
    "tags": []
   },
   "source": [
    "# 6. Evaluate Model"
   ]
  },
  {
   "cell_type": "markdown",
   "id": "c6194bcb",
   "metadata": {
    "papermill": {
     "duration": 3.037478,
     "end_time": "2022-08-26T11:17:17.730527",
     "exception": false,
     "start_time": "2022-08-26T11:17:14.693049",
     "status": "completed"
    },
    "tags": []
   },
   "source": [
    "## 6.1 Check some Score "
   ]
  },
  {
   "cell_type": "markdown",
   "id": "060b9c98-b345-44e1-834c-97041314a558",
   "metadata": {},
   "source": [
    "Scores of train & test set"
   ]
  },
  {
   "cell_type": "code",
   "execution_count": 18,
   "id": "aba66c94",
   "metadata": {
    "execution": {
     "iopub.execute_input": "2022-08-26T11:17:24.122754Z",
     "iopub.status.busy": "2022-08-26T11:17:24.122163Z",
     "iopub.status.idle": "2022-08-26T11:18:53.438482Z",
     "shell.execute_reply": "2022-08-26T11:18:53.437391Z"
    },
    "papermill": {
     "duration": 92.142153,
     "end_time": "2022-08-26T11:18:53.441070",
     "exception": false,
     "start_time": "2022-08-26T11:17:21.298917",
     "status": "completed"
    },
    "tags": []
   },
   "outputs": [
    {
     "name": "stdout",
     "output_type": "stream",
     "text": [
      "449/449 [==============================] - 55s 122ms/step - loss: 0.9783 - accuracy: 0.9169 - precision: 0.8021 - recall: 0.5551 - auc: 0.9390 - f1_score: 0.6551\n",
      "113/113 [==============================] - 7s 63ms/step - loss: 1.4683 - accuracy: 0.8810 - precision: 0.6179 - recall: 0.4376 - auc: 0.8604 - f1_score: 0.5110\n"
     ]
    }
   ],
   "source": [
    "train_evalation = model.evaluate(train_dataset)\n",
    "test_evaluation = model.evaluate(test_dataset)"
   ]
  },
  {
   "cell_type": "markdown",
   "id": "13cfda6a",
   "metadata": {
    "papermill": {
     "duration": 3.066944,
     "end_time": "2022-08-26T11:18:59.348566",
     "exception": false,
     "start_time": "2022-08-26T11:18:56.281622",
     "status": "completed"
    },
    "tags": []
   },
   "source": [
    "## 6.2 Visualize results"
   ]
  },
  {
   "cell_type": "code",
   "execution_count": 19,
   "id": "a01e04de",
   "metadata": {
    "execution": {
     "iopub.execute_input": "2022-08-26T11:19:05.093736Z",
     "iopub.status.busy": "2022-08-26T11:19:05.093367Z",
     "iopub.status.idle": "2022-08-26T11:19:05.754211Z",
     "shell.execute_reply": "2022-08-26T11:19:05.753282Z"
    },
    "papermill": {
     "duration": 3.587741,
     "end_time": "2022-08-26T11:19:05.757164",
     "exception": false,
     "start_time": "2022-08-26T11:19:02.169423",
     "status": "completed"
    },
    "tags": []
   },
   "outputs": [
    {
     "data": {
      "image/png": "[encoded data removed]",
      "text/plain": [
       "<Figure size 1440x360 with 5 Axes>"
      ]
     },
     "metadata": {},
     "output_type": "display_data"
    }
   ],
   "source": [
    "hs=history.history\n",
    "\n",
    "acc = hs['accuracy']\n",
    "val_acc = hs['val_accuracy']\n",
    "loss =  hs['loss']\n",
    "val_loss = hs['val_loss']\n",
    "auc =  hs['auc']\n",
    "val_auc = hs['val_auc']\n",
    "precision =hs['precision']\n",
    "val_precision =hs['val_precision']\n",
    "f1 = hs['f1_score']\n",
    "val_f1 = hs['val_f1_score']              \n",
    "\n",
    "plt.style.use('ggplot')\n",
    "\n",
    "fig, (ax1, ax2,ax3,ax4,ax5) = plt.subplots(1,5, figsize= (20,5))\n",
    "fig.suptitle(\" MODEL'S METRICS VISUALIZATION \")\n",
    "\n",
    "ax1.plot(range(1, len(acc) + 1), acc)\n",
    "ax1.plot(range(1, len(val_acc) + 1), val_acc)\n",
    "ax1.set_title('History of Accuracy')\n",
    "ax1.set_xlabel('Epochs')\n",
    "ax1.set_ylabel('Accuracy')\n",
    "ax1.legend(['training', 'validation'])\n",
    "\n",
    "\n",
    "ax2.plot(range(1, len(loss) + 1), loss)\n",
    "ax2.plot(range(1, len(val_loss) + 1), val_loss)\n",
    "ax2.set_title('History of Loss')\n",
    "ax2.set_xlabel('Epochs')\n",
    "ax2.set_ylabel('Loss')\n",
    "ax2.legend(['training', 'validation'])\n",
    "\n",
    "ax3.plot(range(1, len(auc) + 1), auc)\n",
    "ax3.plot(range(1, len(val_auc) + 1), val_auc)\n",
    "ax3.set_title('History of AUC')\n",
    "ax3.set_xlabel('Epochs')\n",
    "ax3.set_ylabel('AUC')\n",
    "ax3.legend(['training', 'validation'])\n",
    "\n",
    "ax4.plot(range(1, len(precision) + 1), precision)\n",
    "ax4.plot(range(1, len(val_precision) + 1), val_precision)\n",
    "ax4.set_title('History of Precision')\n",
    "ax4.set_xlabel('Epochs')\n",
    "ax4.set_ylabel('Precision')\n",
    "ax4.legend(['training', 'validation'])\n",
    "\n",
    "ax5.plot(range(1, len(f1) + 1), f1)\n",
    "ax5.plot(range(1, len(val_f1) + 1), val_f1)\n",
    "ax5.set_title('History of F1-score')\n",
    "ax5.set_xlabel('Epochs')\n",
    "ax5.set_ylabel('F1 score')\n",
    "ax5.legend(['training', 'validation'])\n",
    "\n",
    "plt.show()"
   ]
  },
  {
   "cell_type": "markdown",
   "id": "c0ccad29",
   "metadata": {
    "papermill": {
     "duration": 2.921484,
     "end_time": "2022-08-26T11:19:11.707869",
     "exception": false,
     "start_time": "2022-08-26T11:19:08.786385",
     "status": "completed"
    },
    "tags": []
   },
   "source": [
    "## 6.3 Confusion Matrix"
   ]
  },
  {
   "cell_type": "code",
   "execution_count": 20,
   "id": "1548bc22",
   "metadata": {
    "execution": {
     "iopub.execute_input": "2022-08-26T11:19:17.516261Z",
     "iopub.status.busy": "2022-08-26T11:19:17.515815Z",
     "iopub.status.idle": "2022-08-26T11:19:24.165008Z",
     "shell.execute_reply": "2022-08-26T11:19:24.163655Z"
    },
    "papermill": {
     "duration": 9.612255,
     "end_time": "2022-08-26T11:19:24.168979",
     "exception": false,
     "start_time": "2022-08-26T11:19:14.556724",
     "status": "completed"
    },
    "tags": []
   },
   "outputs": [],
   "source": [
    "y_true = test_dataset.classes\n",
    "y_pred =  model.predict(test_dataset)\n",
    "y_pred= tf.argmax(y_pred, axis = 1).numpy()\n",
    "\n",
    "cm = confusion_matrix(y_true = y_true, y_pred = y_pred)"
   ]
  },
  {
   "cell_type": "code",
   "execution_count": 21,
   "id": "43119c31",
   "metadata": {
    "execution": {
     "iopub.execute_input": "2022-08-26T11:19:30.102040Z",
     "iopub.status.busy": "2022-08-26T11:19:30.101656Z",
     "iopub.status.idle": "2022-08-26T11:19:30.950751Z",
     "shell.execute_reply": "2022-08-26T11:19:30.949812Z"
    },
    "papermill": {
     "duration": 3.702371,
     "end_time": "2022-08-26T11:19:30.953385",
     "exception": false,
     "start_time": "2022-08-26T11:19:27.251014",
     "status": "completed"
    },
    "tags": []
   },
   "outputs": [
    {
     "data": {
      "image/png": "[encoded data removed]",
      "text/plain": [
       "<Figure size 864x432 with 2 Axes>"
      ]
     },
     "metadata": {},
     "output_type": "display_data"
    }
   ],
   "source": [
    "plt.style.use('seaborn')\n",
    "\n",
    "cm = cm.astype('float') / cm.sum(axis=1)[:, np.newaxis]\n",
    "fig, ax = plt.subplots(figsize=(12,6))\n",
    "\n",
    "im = ax.imshow(cm, interpolation='nearest', cmap=plt.cm.Blues)\n",
    "ax.figure.colorbar(im, ax=ax)\n",
    "\n",
    "ax.set(xticks=np.arange(cm.shape[1]),\n",
    "       yticks=np.arange(cm.shape[0]),\n",
    "       xticklabels=classes, yticklabels=classes,\n",
    "       title = 'Normalized confusion matrix',\n",
    "       ylabel='True label',\n",
    "       xlabel='Predicted label')\n",
    "\n",
    "plt.setp(ax.get_xticklabels(), rotation=45, ha=\"right\",\n",
    "         rotation_mode=\"anchor\")\n",
    "\n",
    "\n",
    "fmt = '.2f' \n",
    "thresh = cm.max() / 2.\n",
    "for i in range(cm.shape[0]):\n",
    "    for j in range(cm.shape[1]):\n",
    "        ax.text(j, i, format(cm[i, j], fmt),\n",
    "                ha=\"center\", va=\"center\",\n",
    "                color=\"white\" if cm[i, j] > thresh else \"black\")\n",
    "\n",
    "fig.tight_layout()\n",
    "plt.show()\n"
   ]
  },
  {
   "cell_type": "markdown",
   "id": "3532846e",
   "metadata": {
    "papermill": {
     "duration": 2.840546,
     "end_time": "2022-08-26T11:19:36.773144",
     "exception": false,
     "start_time": "2022-08-26T11:19:33.932598",
     "status": "completed"
    },
    "tags": []
   },
   "source": [
    "# 7. Save Model"
   ]
  },
  {
   "cell_type": "code",
   "execution_count": 22,
   "id": "bd827b8c",
   "metadata": {
    "execution": {
     "iopub.execute_input": "2022-08-26T11:19:42.918438Z",
     "iopub.status.busy": "2022-08-26T11:19:42.917647Z",
     "iopub.status.idle": "2022-08-26T11:19:43.084226Z",
     "shell.execute_reply": "2022-08-26T11:19:43.083083Z"
    },
    "papermill": {
     "duration": 3.345818,
     "end_time": "2022-08-26T11:19:43.087209",
     "exception": false,
     "start_time": "2022-08-26T11:19:39.741391",
     "status": "completed"
    },
    "tags": []
   },
   "outputs": [
    {
     "name": "stdout",
     "output_type": "stream",
     "text": [
      "Saved model to disk\n"
     ]
    }
   ],
   "source": [
    "model_json = model.to_json()\n",
    "with open(\"model.json\", \"w\") as json_file:\n",
    "    json_file.write(model_json)\n",
    "model.save_weights(\"model.h5\")\n",
    "print(\"Saved model to disk\")"
   ]
  },
  {
   "cell_type": "code",
   "execution_count": 23,
   "id": "05c40e44",
   "metadata": {
    "execution": {
     "iopub.execute_input": "2022-08-26T11:19:48.892111Z",
     "iopub.status.busy": "2022-08-26T11:19:48.891726Z",
     "iopub.status.idle": "2022-08-26T11:19:49.073572Z",
     "shell.execute_reply": "2022-08-26T11:19:49.072513Z"
    },
    "papermill": {
     "duration": 3.098508,
     "end_time": "2022-08-26T11:19:49.075731",
     "exception": false,
     "start_time": "2022-08-26T11:19:45.977223",
     "status": "completed"
    },
    "tags": []
   },
   "outputs": [
    {
     "name": "stdout",
     "output_type": "stream",
     "text": [
      "(48, 48, 1)\n"
     ]
    },
    {
     "data": {
      "image/png": "[encoded data removed]",
      "text/plain": [
       "<Figure size 576x396 with 1 Axes>"
      ]
     },
     "metadata": {},
     "output_type": "display_data"
    },
    {
     "data": {
      "text/plain": [
       "10702106"
      ]
     },
     "execution_count": 23,
     "metadata": {},
     "output_type": "execute_result"
    }
   ],
   "source": [
    "plt.style.use('grayscale')\n",
    "plt.grid(visible=None)\n",
    "img_path='fer2013/test/sad/PrivateTest_10702106.jpg'\n",
    "test_image=image.load_img(img_path,target_size= img_size,color_mode='grayscale')\n",
    "test_image=image.img_to_array(test_image)\n",
    "print(test_image.shape)\n",
    "plt.imshow(test_image)\n",
    "plt.show()\n",
    "\n",
    "10702106\n"
   ]
  },
  {
   "cell_type": "markdown",
   "id": "bb4b6db5",
   "metadata": {
    "papermill": {
     "duration": 3.083789,
     "end_time": "2022-08-26T11:19:55.076588",
     "exception": false,
     "start_time": "2022-08-26T11:19:51.992799",
     "status": "completed"
    },
    "tags": []
   },
   "source": [
    "# 8. Test/Predict"
   ]
  },
  {
   "cell_type": "code",
   "execution_count": 24,
   "id": "20dc6843",
   "metadata": {
    "execution": {
     "iopub.execute_input": "2022-08-26T11:20:00.896331Z",
     "iopub.status.busy": "2022-08-26T11:20:00.895972Z",
     "iopub.status.idle": "2022-08-26T11:20:00.903328Z",
     "shell.execute_reply": "2022-08-26T11:20:00.902171Z"
    },
    "papermill": {
     "duration": 2.946229,
     "end_time": "2022-08-26T11:20:00.905876",
     "exception": false,
     "start_time": "2022-08-26T11:19:57.959647",
     "status": "completed"
    },
    "tags": []
   },
   "outputs": [
    {
     "name": "stdout",
     "output_type": "stream",
     "text": [
      "(1, 48, 48, 3)\n"
     ]
    }
   ],
   "source": [
    "img=image.load_img(img_path,target_size=img_size)\n",
    "img = np.expand_dims(img, axis=0)\n",
    "print(img.shape)"
   ]
  },
  {
   "cell_type": "code",
   "execution_count": 25,
   "id": "48c8655d",
   "metadata": {
    "execution": {
     "iopub.execute_input": "2022-08-26T11:20:06.839263Z",
     "iopub.status.busy": "2022-08-26T11:20:06.838900Z",
     "iopub.status.idle": "2022-08-26T11:20:07.310053Z",
     "shell.execute_reply": "2022-08-26T11:20:07.308043Z"
    },
    "papermill": {
     "duration": 3.3685,
     "end_time": "2022-08-26T11:20:07.312290",
     "exception": false,
     "start_time": "2022-08-26T11:20:03.943790",
     "status": "completed"
    },
    "tags": []
   },
   "outputs": [
    {
     "name": "stdout",
     "output_type": "stream",
     "text": [
      "[2.0795016e-02 1.9091691e-04 6.4420514e-02 1.5454856e-03 7.6981536e-03\n",
      " 8.5047293e-01 5.4877050e-02]\n",
      "The person facial emotion is: Sad\n"
     ]
    }
   ],
   "source": [
    "result=model.predict(img)\n",
    "print(result[0])\n",
    "y_pred=np.argmax(result[0])\n",
    "print('The person facial emotion is:',classes[y_pred])"
   ]
  }
 ],
 "metadata": {
  "kernelspec": {
   "display_name": "Python 3 (ipykernel)",
   "language": "python",
   "name": "python3"
  },
  "language_info": {
   "codemirror_mode": {
    "name": "ipython",
    "version": 3
   },
   "file_extension": ".py",
   "mimetype": "text/x-python",
   "name": "python",
   "nbconvert_exporter": "python",
   "pygments_lexer": "ipython3",
   "version": "3.9.7"
  },
  "papermill": {
   "default_parameters": {},
   "duration": 8336.02633,
   "end_time": "2022-08-26T11:20:13.186586",
   "environment_variables": {},
   "exception": null,
   "input_path": "__notebook__.ipynb",
   "output_path": "__notebook__.ipynb",
   "parameters": {},
   "start_time": "2022-08-26T09:01:17.160256",
   "version": "2.3.4"
  }
 },
 "nbformat": 4,
 "nbformat_minor": 5
}
